{
 "cells": [
  {
   "cell_type": "code",
   "execution_count": 3,
   "metadata": {},
   "outputs": [
    {
     "name": "stdout",
     "output_type": "stream",
     "text": [
      "Libraries Import Succesfull\n"
     ]
    }
   ],
   "source": [
    "import pandas as pd\n",
    "import numpy as np\n",
    "\n",
    "import seaborn as sns\n",
    "import matplotlib.pyplot as plt\n",
    "%matplotlib inline\n",
    "\n",
    "\n",
    "import warnings\n",
    "warnings.filterwarnings('ignore')\n",
    "print('Libraries Import Succesfull')\n"
   ]
  },
  {
   "cell_type": "code",
   "execution_count": 2,
   "metadata": {},
   "outputs": [
    {
     "data": {
      "text/html": [
       "<div>\n",
       "<style scoped>\n",
       "    .dataframe tbody tr th:only-of-type {\n",
       "        vertical-align: middle;\n",
       "    }\n",
       "\n",
       "    .dataframe tbody tr th {\n",
       "        vertical-align: top;\n",
       "    }\n",
       "\n",
       "    .dataframe thead th {\n",
       "        text-align: right;\n",
       "    }\n",
       "</style>\n",
       "<table border=\"1\" class=\"dataframe\">\n",
       "  <thead>\n",
       "    <tr style=\"text-align: right;\">\n",
       "      <th></th>\n",
       "      <th>Timestamp</th>\n",
       "      <th>UserID</th>\n",
       "      <th>Website_section_visited</th>\n",
       "    </tr>\n",
       "  </thead>\n",
       "  <tbody>\n",
       "    <tr>\n",
       "      <th>0</th>\n",
       "      <td>2017-07-26 00:01:40.965</td>\n",
       "      <td>0</td>\n",
       "      <td>product</td>\n",
       "    </tr>\n",
       "    <tr>\n",
       "      <th>1</th>\n",
       "      <td>2017-07-26 00:03:18.448</td>\n",
       "      <td>0</td>\n",
       "      <td>product</td>\n",
       "    </tr>\n",
       "    <tr>\n",
       "      <th>2</th>\n",
       "      <td>2017-07-26 00:36:59.028</td>\n",
       "      <td>0</td>\n",
       "      <td>default</td>\n",
       "    </tr>\n",
       "    <tr>\n",
       "      <th>3</th>\n",
       "      <td>2017-07-26 00:41:17.273</td>\n",
       "      <td>0</td>\n",
       "      <td>product-listing-category</td>\n",
       "    </tr>\n",
       "    <tr>\n",
       "      <th>4</th>\n",
       "      <td>2017-07-26 00:45:39.197</td>\n",
       "      <td>0</td>\n",
       "      <td>content</td>\n",
       "    </tr>\n",
       "  </tbody>\n",
       "</table>\n",
       "</div>"
      ],
      "text/plain": [
       "                 Timestamp  UserID   Website_section_visited\n",
       "0  2017-07-26 00:01:40.965       0                   product\n",
       "1  2017-07-26 00:03:18.448       0                   product\n",
       "2  2017-07-26 00:36:59.028       0                   default\n",
       "3  2017-07-26 00:41:17.273       0  product-listing-category\n",
       "4  2017-07-26 00:45:39.197       0                   content"
      ]
     },
     "execution_count": 2,
     "metadata": {},
     "output_type": "execute_result"
    }
   ],
   "source": [
    "# read first file\n",
    "site_browsing=pd.read_csv('Problem2_Site_BrowingBehavior.csv', delimiter='\\t',header=None) \n",
    "site_browsing.columns=['Timestamp', 'UserID','Website_section_visited']\n",
    "site_browsing.head()\n"
   ]
  },
  {
   "cell_type": "code",
   "execution_count": 3,
   "metadata": {},
   "outputs": [
    {
     "name": "stdout",
     "output_type": "stream",
     "text": [
      "(5535924, 3)\n",
      "<class 'pandas.core.frame.DataFrame'>\n",
      "RangeIndex: 5535924 entries, 0 to 5535923\n",
      "Data columns (total 3 columns):\n",
      " #   Column                   Dtype \n",
      "---  ------                   ----- \n",
      " 0   Timestamp                object\n",
      " 1   UserID                   int64 \n",
      " 2   Website_section_visited  object\n",
      "dtypes: int64(1), object(2)\n",
      "memory usage: 126.7+ MB\n"
     ]
    }
   ],
   "source": [
    "print(site_browsing.shape)\n",
    "site_browsing.info()\n"
   ]
  },
  {
   "cell_type": "code",
   "execution_count": 4,
   "metadata": {},
   "outputs": [
    {
     "name": "stdout",
     "output_type": "stream",
     "text": [
      "<class 'pandas.core.frame.DataFrame'>\n",
      "RangeIndex: 5535924 entries, 0 to 5535923\n",
      "Data columns (total 3 columns):\n",
      " #   Column                   Dtype \n",
      "---  ------                   ----- \n",
      " 0   Timestamp                object\n",
      " 1   UserID                   int64 \n",
      " 2   Website_section_visited  object\n",
      "dtypes: int64(1), object(2)\n",
      "memory usage: 126.7+ MB\n"
     ]
    }
   ],
   "source": [
    "site_browsing.info()"
   ]
  },
  {
   "cell_type": "code",
   "execution_count": 5,
   "metadata": {},
   "outputs": [
    {
     "name": "stdout",
     "output_type": "stream",
     "text": [
      "<class 'pandas.core.frame.DataFrame'>\n",
      "RangeIndex: 5535924 entries, 0 to 5535923\n",
      "Data columns (total 3 columns):\n",
      " #   Column                   Dtype         \n",
      "---  ------                   -----         \n",
      " 0   Timestamp                datetime64[ns]\n",
      " 1   UserID                   int64         \n",
      " 2   Website_section_visited  object        \n",
      "dtypes: datetime64[ns](1), int64(1), object(1)\n",
      "memory usage: 126.7+ MB\n"
     ]
    }
   ],
   "source": [
    "# converting date time format\n",
    "site_browsing['Timestamp']=pd.to_datetime(site_browsing['Timestamp'])\n",
    "#site_browsing['UserID'] = site_browsing['UserID'] .astype(np.uint8)\n",
    "site_browsing.info()"
   ]
  },
  {
   "cell_type": "code",
   "execution_count": 6,
   "metadata": {
    "scrolled": false
   },
   "outputs": [
    {
     "data": {
      "text/html": [
       "<div>\n",
       "<style scoped>\n",
       "    .dataframe tbody tr th:only-of-type {\n",
       "        vertical-align: middle;\n",
       "    }\n",
       "\n",
       "    .dataframe tbody tr th {\n",
       "        vertical-align: top;\n",
       "    }\n",
       "\n",
       "    .dataframe thead th {\n",
       "        text-align: right;\n",
       "    }\n",
       "</style>\n",
       "<table border=\"1\" class=\"dataframe\">\n",
       "  <thead>\n",
       "    <tr style=\"text-align: right;\">\n",
       "      <th></th>\n",
       "      <th>Timestamp</th>\n",
       "      <th>UserID</th>\n",
       "      <th>Products_Purchased</th>\n",
       "      <th>Cart_Value</th>\n",
       "    </tr>\n",
       "  </thead>\n",
       "  <tbody>\n",
       "    <tr>\n",
       "      <th>0</th>\n",
       "      <td>2017-07-26 00:00:10.465</td>\n",
       "      <td>0</td>\n",
       "      <td>A293532</td>\n",
       "      <td>52.14</td>\n",
       "    </tr>\n",
       "    <tr>\n",
       "      <th>1</th>\n",
       "      <td>2017-07-26 00:00:12.301</td>\n",
       "      <td>0</td>\n",
       "      <td>H209597</td>\n",
       "      <td>31.50</td>\n",
       "    </tr>\n",
       "    <tr>\n",
       "      <th>2</th>\n",
       "      <td>2017-07-26 00:00:12.388</td>\n",
       "      <td>0</td>\n",
       "      <td>H211370</td>\n",
       "      <td>30.48</td>\n",
       "    </tr>\n",
       "    <tr>\n",
       "      <th>3</th>\n",
       "      <td>2017-07-26 00:00:14.389</td>\n",
       "      <td>0</td>\n",
       "      <td>A282331</td>\n",
       "      <td>51.00</td>\n",
       "    </tr>\n",
       "    <tr>\n",
       "      <th>4</th>\n",
       "      <td>2017-07-26 00:00:16.837</td>\n",
       "      <td>0</td>\n",
       "      <td>H211410</td>\n",
       "      <td>16.74</td>\n",
       "    </tr>\n",
       "  </tbody>\n",
       "</table>\n",
       "</div>"
      ],
      "text/plain": [
       "                 Timestamp  UserID Products_Purchased  Cart_Value\n",
       "0  2017-07-26 00:00:10.465       0            A293532       52.14\n",
       "1  2017-07-26 00:00:12.301       0            H209597       31.50\n",
       "2  2017-07-26 00:00:12.388       0            H211370       30.48\n",
       "3  2017-07-26 00:00:14.389       0            A282331       51.00\n",
       "4  2017-07-26 00:00:16.837       0            H211410       16.74"
      ]
     },
     "execution_count": 6,
     "metadata": {},
     "output_type": "execute_result"
    }
   ],
   "source": [
    "# reading second file\n",
    "final_conversion=pd.read_csv('Problem2_FInalConversions.csv',sep=\"\\t\", header = None)\n",
    "final_conversion.columns=['Timestamp', 'UserID', 'Products_Purchased', 'Cart_Value']\n",
    "final_conversion.head()\n"
   ]
  },
  {
   "cell_type": "code",
   "execution_count": 7,
   "metadata": {},
   "outputs": [
    {
     "name": "stdout",
     "output_type": "stream",
     "text": [
      "(79795, 4)\n",
      "<class 'pandas.core.frame.DataFrame'>\n",
      "RangeIndex: 79795 entries, 0 to 79794\n",
      "Data columns (total 4 columns):\n",
      " #   Column              Non-Null Count  Dtype  \n",
      "---  ------              --------------  -----  \n",
      " 0   Timestamp           79795 non-null  object \n",
      " 1   UserID              79795 non-null  int64  \n",
      " 2   Products_Purchased  79795 non-null  object \n",
      " 3   Cart_Value          79795 non-null  float64\n",
      "dtypes: float64(1), int64(1), object(2)\n",
      "memory usage: 2.4+ MB\n"
     ]
    }
   ],
   "source": [
    "print(final_conversion.shape)\n",
    "final_conversion.info()\n"
   ]
  },
  {
   "cell_type": "code",
   "execution_count": 8,
   "metadata": {},
   "outputs": [
    {
     "name": "stdout",
     "output_type": "stream",
     "text": [
      "<class 'pandas.core.frame.DataFrame'>\n",
      "RangeIndex: 79795 entries, 0 to 79794\n",
      "Data columns (total 4 columns):\n",
      " #   Column              Non-Null Count  Dtype         \n",
      "---  ------              --------------  -----         \n",
      " 0   Timestamp           79795 non-null  datetime64[ns]\n",
      " 1   UserID              79795 non-null  int64         \n",
      " 2   Products_Purchased  79795 non-null  object        \n",
      " 3   Cart_Value          79795 non-null  float64       \n",
      "dtypes: datetime64[ns](1), float64(1), int64(1), object(1)\n",
      "memory usage: 2.4+ MB\n"
     ]
    }
   ],
   "source": [
    "#Converting to datatime format\n",
    "final_conversion['Timestamp']=pd.to_datetime(final_conversion['Timestamp'])\n",
    "#final_conversion['UserID'] = final_conversion['UserID'] .astype(np.uint8)\n",
    "final_conversion.info()"
   ]
  },
  {
   "cell_type": "code",
   "execution_count": 9,
   "metadata": {
    "scrolled": true
   },
   "outputs": [
    {
     "data": {
      "text/plain": [
       "(79795, 6)"
      ]
     },
     "execution_count": 9,
     "metadata": {},
     "output_type": "execute_result"
    }
   ],
   "source": [
    "#Merging two Dataframes\n",
    "df_final=pd.merge(final_conversion,site_browsing,on=['UserID'],how='inner',left_index=True,right_index=True)\n",
    "df_final.shape\n"
   ]
  },
  {
   "cell_type": "code",
   "execution_count": 10,
   "metadata": {
    "scrolled": true
   },
   "outputs": [
    {
     "name": "stdout",
     "output_type": "stream",
     "text": [
      "<class 'pandas.core.frame.DataFrame'>\n",
      "Int64Index: 79795 entries, 0 to 79794\n",
      "Data columns (total 6 columns):\n",
      " #   Column                   Non-Null Count  Dtype         \n",
      "---  ------                   --------------  -----         \n",
      " 0   Timestamp_x              79795 non-null  datetime64[ns]\n",
      " 1   UserID                   79795 non-null  int64         \n",
      " 2   Products_Purchased       79795 non-null  object        \n",
      " 3   Cart_Value               79795 non-null  float64       \n",
      " 4   Timestamp_y              79795 non-null  datetime64[ns]\n",
      " 5   Website_section_visited  79795 non-null  object        \n",
      "dtypes: datetime64[ns](2), float64(1), int64(1), object(2)\n",
      "memory usage: 4.3+ MB\n",
      "None\n"
     ]
    },
    {
     "data": {
      "text/html": [
       "<div>\n",
       "<style scoped>\n",
       "    .dataframe tbody tr th:only-of-type {\n",
       "        vertical-align: middle;\n",
       "    }\n",
       "\n",
       "    .dataframe tbody tr th {\n",
       "        vertical-align: top;\n",
       "    }\n",
       "\n",
       "    .dataframe thead th {\n",
       "        text-align: right;\n",
       "    }\n",
       "</style>\n",
       "<table border=\"1\" class=\"dataframe\">\n",
       "  <thead>\n",
       "    <tr style=\"text-align: right;\">\n",
       "      <th></th>\n",
       "      <th>Timestamp_x</th>\n",
       "      <th>UserID</th>\n",
       "      <th>Products_Purchased</th>\n",
       "      <th>Cart_Value</th>\n",
       "      <th>Timestamp_y</th>\n",
       "      <th>Website_section_visited</th>\n",
       "    </tr>\n",
       "  </thead>\n",
       "  <tbody>\n",
       "    <tr>\n",
       "      <th>79790</th>\n",
       "      <td>2017-07-26 23:09:08.202</td>\n",
       "      <td>9174973170462435039</td>\n",
       "      <td>K45766</td>\n",
       "      <td>89.96</td>\n",
       "      <td>2017-07-26 00:39:14.899</td>\n",
       "      <td>home</td>\n",
       "    </tr>\n",
       "    <tr>\n",
       "      <th>79791</th>\n",
       "      <td>2017-07-26 23:44:19.505</td>\n",
       "      <td>9179943977593655876</td>\n",
       "      <td>V34738</td>\n",
       "      <td>24.66</td>\n",
       "      <td>2017-07-26 00:39:14.909</td>\n",
       "      <td>content</td>\n",
       "    </tr>\n",
       "    <tr>\n",
       "      <th>79792</th>\n",
       "      <td>2017-07-26 23:53:15.661</td>\n",
       "      <td>9179943977593655876</td>\n",
       "      <td>H210000</td>\n",
       "      <td>21.64</td>\n",
       "      <td>2017-07-26 00:39:14.944</td>\n",
       "      <td>home</td>\n",
       "    </tr>\n",
       "    <tr>\n",
       "      <th>79793</th>\n",
       "      <td>2017-07-26 23:13:02.550</td>\n",
       "      <td>9211905364441411643</td>\n",
       "      <td>A209343</td>\n",
       "      <td>73.00</td>\n",
       "      <td>2017-07-26 00:39:15.161</td>\n",
       "      <td>product</td>\n",
       "    </tr>\n",
       "    <tr>\n",
       "      <th>79794</th>\n",
       "      <td>2017-07-26 23:21:05.221</td>\n",
       "      <td>9221827579306644828</td>\n",
       "      <td>V34417</td>\n",
       "      <td>33.50</td>\n",
       "      <td>2017-07-26 00:39:15.223</td>\n",
       "      <td>product</td>\n",
       "    </tr>\n",
       "  </tbody>\n",
       "</table>\n",
       "</div>"
      ],
      "text/plain": [
       "                  Timestamp_x               UserID Products_Purchased  \\\n",
       "79790 2017-07-26 23:09:08.202  9174973170462435039             K45766   \n",
       "79791 2017-07-26 23:44:19.505  9179943977593655876             V34738   \n",
       "79792 2017-07-26 23:53:15.661  9179943977593655876            H210000   \n",
       "79793 2017-07-26 23:13:02.550  9211905364441411643            A209343   \n",
       "79794 2017-07-26 23:21:05.221  9221827579306644828             V34417   \n",
       "\n",
       "       Cart_Value             Timestamp_y Website_section_visited  \n",
       "79790       89.96 2017-07-26 00:39:14.899                    home  \n",
       "79791       24.66 2017-07-26 00:39:14.909                 content  \n",
       "79792       21.64 2017-07-26 00:39:14.944                    home  \n",
       "79793       73.00 2017-07-26 00:39:15.161                 product  \n",
       "79794       33.50 2017-07-26 00:39:15.223                 product  "
      ]
     },
     "execution_count": 10,
     "metadata": {},
     "output_type": "execute_result"
    }
   ],
   "source": [
    "print(df_final.info())\n",
    "df_final.tail()"
   ]
  },
  {
   "cell_type": "code",
   "execution_count": 11,
   "metadata": {
    "scrolled": true
   },
   "outputs": [
    {
     "data": {
      "text/plain": [
       "0                      20197\n",
       "6999042003656970156       31\n",
       "559346213618742389        22\n",
       "9050159186422090402       20\n",
       "1536590739380574003       20\n",
       "                       ...  \n",
       "8721108960309386090        1\n",
       "6550192714371123312        1\n",
       "8875479531064627858        1\n",
       "6605416823766117807        1\n",
       "1731797111331025079        1\n",
       "Name: UserID, Length: 41009, dtype: int64"
      ]
     },
     "execution_count": 11,
     "metadata": {},
     "output_type": "execute_result"
    }
   ],
   "source": [
    "df_final.UserID.value_counts()\n",
    "\n",
    "   "
   ]
  },
  {
   "cell_type": "code",
   "execution_count": 12,
   "metadata": {},
   "outputs": [
    {
     "name": "stdout",
     "output_type": "stream",
     "text": [
      "                  Timestamp_x               UserID Products_Purchased  \\\n",
      "0     2017-07-26 00:00:10.465                    0            A293532   \n",
      "1     2017-07-26 00:00:12.301                    0            H209597   \n",
      "2     2017-07-26 00:00:12.388                    0            H211370   \n",
      "3     2017-07-26 00:00:14.389                    0            A282331   \n",
      "4     2017-07-26 00:00:16.837                    0            H211410   \n",
      "...                       ...                  ...                ...   \n",
      "79790 2017-07-26 23:09:08.202  9174973170462435039             K45766   \n",
      "79791 2017-07-26 23:44:19.505  9179943977593655876             V34738   \n",
      "79792 2017-07-26 23:53:15.661  9179943977593655876            H210000   \n",
      "79793 2017-07-26 23:13:02.550  9211905364441411643            A209343   \n",
      "79794 2017-07-26 23:21:05.221  9221827579306644828             V34417   \n",
      "\n",
      "       Cart_Value             Timestamp_y   Website_section_visited  \n",
      "0           52.14 2017-07-26 00:01:40.965                   product  \n",
      "1           31.50 2017-07-26 00:03:18.448                   product  \n",
      "2           30.48 2017-07-26 00:36:59.028                   default  \n",
      "3           51.00 2017-07-26 00:41:17.273  product-listing-category  \n",
      "4           16.74 2017-07-26 00:45:39.197                   content  \n",
      "...           ...                     ...                       ...  \n",
      "79790       89.96 2017-07-26 00:39:14.899                      home  \n",
      "79791       24.66 2017-07-26 00:39:14.909                   content  \n",
      "79792       21.64 2017-07-26 00:39:14.944                      home  \n",
      "79793       73.00 2017-07-26 00:39:15.161                   product  \n",
      "79794       33.50 2017-07-26 00:39:15.223                   product  \n",
      "\n",
      "[58378 rows x 6 columns]\n"
     ]
    }
   ],
   "source": [
    "\n",
    "df=df_final.groupby(['UserID'],sort=True)\n",
    "print(df.head())\n"
   ]
  },
  {
   "cell_type": "code",
   "execution_count": 13,
   "metadata": {},
   "outputs": [
    {
     "name": "stdout",
     "output_type": "stream",
     "text": [
      "UserID\n",
      "0                      1375101.66\n",
      "2941287703                  75.34\n",
      "71023925710020              89.96\n",
      "394529638495081             94.34\n",
      "430191686443660             84.70\n",
      "                          ...    \n",
      "9222344977727669611         89.96\n",
      "9222827786235385211        292.00\n",
      "9222849861047010228         64.40\n",
      "9223093682582171386        144.96\n",
      "9223308018930726010         54.00\n",
      "Name: Cart_Value, Length: 41009, dtype: float64 UserID\n",
      "0                      20197\n",
      "2941287703                 1\n",
      "71023925710020             1\n",
      "394529638495081            1\n",
      "430191686443660            2\n",
      "                       ...  \n",
      "9222344977727669611        1\n",
      "9222827786235385211        1\n",
      "9222849861047010228        1\n",
      "9223093682582171386        1\n",
      "9223308018930726010        1\n",
      "Name: Products_Purchased, Length: 41009, dtype: int64\n"
     ]
    }
   ],
   "source": [
    "print(df_final.groupby('UserID')['Cart_Value'].sum(),\n",
    "      df_final.groupby('UserID')['Products_Purchased'].count())\n",
    "\n"
   ]
  },
  {
   "cell_type": "code",
   "execution_count": 14,
   "metadata": {},
   "outputs": [
    {
     "data": {
      "text/plain": [
       "UserID\n",
       "0                      1439.969783\n",
       "2941287703             1206.404500\n",
       "71023925710020          687.885650\n",
       "394529638495081         616.336717\n",
       "430191686443660         999.107750\n",
       "                          ...     \n",
       "9222344977727669611     977.800667\n",
       "9222827786235385211    1029.206933\n",
       "9222849861047010228     131.492550\n",
       "9223093682582171386    1163.234817\n",
       "9223308018930726010      77.346233\n",
       "Length: 41009, dtype: float64"
      ]
     },
     "execution_count": 14,
     "metadata": {},
     "output_type": "execute_result"
    }
   ],
   "source": [
    "\n",
    "#dt=date()\n",
    "purchasedt=df_final.groupby('UserID')['Timestamp_x'].max()\n",
    "#purchasedt\n",
    "sitesurveydt=df_final.groupby('UserID')['Timestamp_y'].min()\n",
    "datedif=(purchasedt-sitesurveydt)\n",
    "datedif.head()\n",
    "datedif.dt.total_seconds()/60\n"
   ]
  },
  {
   "cell_type": "code",
   "execution_count": 17,
   "metadata": {
    "scrolled": true
   },
   "outputs": [
    {
     "data": {
      "text/plain": [
       "UserID\n",
       "0                      1407879\n",
       "2                           15\n",
       "5                            2\n",
       "342391                       7\n",
       "420372                       2\n",
       "                        ...   \n",
       "9223331925947099393          1\n",
       "9223332159306941752          5\n",
       "9223343967635174542          8\n",
       "9223348075878229938          5\n",
       "9223367577450368994          1\n",
       "Name: Timestamp, Length: 516932, dtype: int64"
      ]
     },
     "execution_count": 17,
     "metadata": {},
     "output_type": "execute_result"
    }
   ],
   "source": [
    "site_browsing.groupby('UserID')['Timestamp'].count()"
   ]
  },
  {
   "cell_type": "code",
   "execution_count": 18,
   "metadata": {
    "scrolled": true
   },
   "outputs": [
    {
     "data": {
      "text/html": [
       "<div>\n",
       "<style scoped>\n",
       "    .dataframe tbody tr th:only-of-type {\n",
       "        vertical-align: middle;\n",
       "    }\n",
       "\n",
       "    .dataframe tbody tr th {\n",
       "        vertical-align: top;\n",
       "    }\n",
       "\n",
       "    .dataframe thead th {\n",
       "        text-align: right;\n",
       "    }\n",
       "</style>\n",
       "<table border=\"1\" class=\"dataframe\">\n",
       "  <thead>\n",
       "    <tr style=\"text-align: right;\">\n",
       "      <th></th>\n",
       "      <th>Total_Cart_value</th>\n",
       "      <th>Total_Product_purchased</th>\n",
       "      <th>No_of_times_visited</th>\n",
       "      <th>Time_Spent</th>\n",
       "    </tr>\n",
       "    <tr>\n",
       "      <th>UserID</th>\n",
       "      <th></th>\n",
       "      <th></th>\n",
       "      <th></th>\n",
       "      <th></th>\n",
       "    </tr>\n",
       "  </thead>\n",
       "  <tbody>\n",
       "    <tr>\n",
       "      <th>0</th>\n",
       "      <td>1375101.66</td>\n",
       "      <td>20197</td>\n",
       "      <td>1407879.0</td>\n",
       "      <td>1439.969783</td>\n",
       "    </tr>\n",
       "    <tr>\n",
       "      <th>2941287703</th>\n",
       "      <td>75.34</td>\n",
       "      <td>1</td>\n",
       "      <td>3.0</td>\n",
       "      <td>1206.404500</td>\n",
       "    </tr>\n",
       "    <tr>\n",
       "      <th>71023925710020</th>\n",
       "      <td>89.96</td>\n",
       "      <td>1</td>\n",
       "      <td>2.0</td>\n",
       "      <td>687.885650</td>\n",
       "    </tr>\n",
       "    <tr>\n",
       "      <th>394529638495081</th>\n",
       "      <td>94.34</td>\n",
       "      <td>1</td>\n",
       "      <td>3.0</td>\n",
       "      <td>616.336717</td>\n",
       "    </tr>\n",
       "    <tr>\n",
       "      <th>430191686443660</th>\n",
       "      <td>84.70</td>\n",
       "      <td>2</td>\n",
       "      <td>13.0</td>\n",
       "      <td>999.107750</td>\n",
       "    </tr>\n",
       "  </tbody>\n",
       "</table>\n",
       "</div>"
      ],
      "text/plain": [
       "                 Total_Cart_value  Total_Product_purchased  \\\n",
       "UserID                                                       \n",
       "0                      1375101.66                    20197   \n",
       "2941287703                  75.34                        1   \n",
       "71023925710020              89.96                        1   \n",
       "394529638495081             94.34                        1   \n",
       "430191686443660             84.70                        2   \n",
       "\n",
       "                 No_of_times_visited   Time_Spent  \n",
       "UserID                                             \n",
       "0                          1407879.0  1439.969783  \n",
       "2941287703                       3.0  1206.404500  \n",
       "71023925710020                   2.0   687.885650  \n",
       "394529638495081                  3.0   616.336717  \n",
       "430191686443660                 13.0   999.107750  "
      ]
     },
     "execution_count": 18,
     "metadata": {},
     "output_type": "execute_result"
    }
   ],
   "source": [
    "data=pd.DataFrame()\n",
    "data['Total_Cart_value']=df_final.groupby('UserID')['Cart_Value'].sum()\n",
    "\n",
    "data['Total_Product_purchased']=df_final.groupby('UserID')['Products_Purchased'].count()\n",
    "data['No_of_times_visited']=site_browsing.groupby('UserID')['Timestamp'].count()\n",
    "\n",
    "purchasedt=df_final.groupby('UserID')['Timestamp_x'].max()\n",
    "#purchasedt\n",
    "sitesurveydt=df_final.groupby('UserID')['Timestamp_y'].min()\n",
    "datedif=(purchasedt-sitesurveydt)\n",
    "#datedif.head()\n",
    "data['Time_Spent']=datedif.dt.total_seconds()/60\n",
    "data.head()\n"
   ]
  },
  {
   "cell_type": "code",
   "execution_count": null,
   "metadata": {},
   "outputs": [],
   "source": [
    "data = data.reset_index()\n",
    "data=data.drop(['UserID'],axis=1)\n",
    "data.head()"
   ]
  },
  {
   "cell_type": "code",
   "execution_count": null,
   "metadata": {},
   "outputs": [],
   "source": [
    "print(data.shape)\n",
    "print(data.info())\n",
    "print(data.describe())"
   ]
  },
  {
   "cell_type": "code",
   "execution_count": 5,
   "metadata": {},
   "outputs": [],
   "source": [
    "def df_summary(df):\n",
    "    df_U=df.nunique()\n",
    "    df_M=df.isnull().sum()\n",
    "    df_I=df.dtypes\n",
    "    df_U=df_U.to_frame().reset_index()\n",
    "    df_M=df_M.to_frame().reset_index()\n",
    "    df_I=df_I.to_frame().reset_index()\n",
    "    df_U = df_U.rename(columns= {0: 'Unique Data'})   #renaming the 0 column tp Unique data\n",
    "    df_M = df_M.rename(columns= {0: 'Missing Data'})\n",
    "    df_I = df_I.rename(columns= {0: 'Data Types'})\n",
    "    #merge on index all the 3 dataframe, merge two first then third\n",
    "    output = pd.merge(pd.merge(df_M,df_U,on='index'),df_I,on='index')\n",
    "    return output"
   ]
  },
  {
   "cell_type": "code",
   "execution_count": 21,
   "metadata": {},
   "outputs": [
    {
     "data": {
      "text/html": [
       "<div>\n",
       "<style scoped>\n",
       "    .dataframe tbody tr th:only-of-type {\n",
       "        vertical-align: middle;\n",
       "    }\n",
       "\n",
       "    .dataframe tbody tr th {\n",
       "        vertical-align: top;\n",
       "    }\n",
       "\n",
       "    .dataframe thead th {\n",
       "        text-align: right;\n",
       "    }\n",
       "</style>\n",
       "<table border=\"1\" class=\"dataframe\">\n",
       "  <thead>\n",
       "    <tr style=\"text-align: right;\">\n",
       "      <th></th>\n",
       "      <th>index</th>\n",
       "      <th>Missing Data</th>\n",
       "      <th>Unique Data</th>\n",
       "      <th>Data Types</th>\n",
       "    </tr>\n",
       "  </thead>\n",
       "  <tbody>\n",
       "    <tr>\n",
       "      <th>0</th>\n",
       "      <td>Total_Cart_value</td>\n",
       "      <td>0</td>\n",
       "      <td>9299</td>\n",
       "      <td>float64</td>\n",
       "    </tr>\n",
       "    <tr>\n",
       "      <th>1</th>\n",
       "      <td>Total_Product_purchased</td>\n",
       "      <td>0</td>\n",
       "      <td>22</td>\n",
       "      <td>int64</td>\n",
       "    </tr>\n",
       "    <tr>\n",
       "      <th>2</th>\n",
       "      <td>No_of_times_visited</td>\n",
       "      <td>155</td>\n",
       "      <td>271</td>\n",
       "      <td>float64</td>\n",
       "    </tr>\n",
       "    <tr>\n",
       "      <th>3</th>\n",
       "      <td>Time_Spent</td>\n",
       "      <td>0</td>\n",
       "      <td>40990</td>\n",
       "      <td>float64</td>\n",
       "    </tr>\n",
       "  </tbody>\n",
       "</table>\n",
       "</div>"
      ],
      "text/plain": [
       "                     index  Missing Data  Unique Data Data Types\n",
       "0         Total_Cart_value             0         9299    float64\n",
       "1  Total_Product_purchased             0           22      int64\n",
       "2      No_of_times_visited           155          271    float64\n",
       "3               Time_Spent             0        40990    float64"
      ]
     },
     "execution_count": 21,
     "metadata": {},
     "output_type": "execute_result"
    }
   ],
   "source": [
    "df_summary(data)"
   ]
  },
  {
   "cell_type": "code",
   "execution_count": 22,
   "metadata": {},
   "outputs": [
    {
     "name": "stdout",
     "output_type": "stream",
     "text": [
      "% of null values in  No of times Visited =0.38\n"
     ]
    },
    {
     "data": {
      "image/png": "[encoded data removed]",
      "text/plain": [
       "<Figure size 432x288 with 1 Axes>"
      ]
     },
     "metadata": {
      "needs_background": "light"
     },
     "output_type": "display_data"
    }
   ],
   "source": [
    "#no of times Visited contaions null values\n",
    "#site_browsing.info()\n",
    "print('% of null values in  No of times Visited ={0:.2f}'.format(data['No_of_times_visited'].isnull().sum()/len(data)*100))\n",
    "import seaborn as sn\n",
    "import matplotlib.pyplot as pt\n",
    "sn.heatmap(data.isnull(),cbar=False,cmap='viridis')\n",
    "pt.show()\n"
   ]
  },
  {
   "cell_type": "code",
   "execution_count": 23,
   "metadata": {},
   "outputs": [],
   "source": [
    "#Distirution of data in field No_of_times_Visited\n",
    "#sn.histplot(data.No_of_times_visited.dropna(),kde=True) #Kernal distribytion "
   ]
  },
  {
   "cell_type": "code",
   "execution_count": 24,
   "metadata": {},
   "outputs": [
    {
     "data": {
      "text/plain": [
       "count    4.085400e+04\n",
       "mean     5.521653e+01\n",
       "std      6.965376e+03\n",
       "min      1.000000e+00\n",
       "25%      7.000000e+00\n",
       "50%      1.300000e+01\n",
       "75%      2.500000e+01\n",
       "max      1.407879e+06\n",
       "Name: No_of_times_visited, dtype: float64"
      ]
     },
     "execution_count": 24,
     "metadata": {},
     "output_type": "execute_result"
    }
   ],
   "source": [
    "data.No_of_times_visited.describe()"
   ]
  },
  {
   "cell_type": "code",
   "execution_count": 25,
   "metadata": {},
   "outputs": [],
   "source": [
    "data.No_of_times_visited.mode()\n",
    "data.No_of_times_visited.fillna(1.0,inplace=True)"
   ]
  },
  {
   "cell_type": "code",
   "execution_count": 26,
   "metadata": {},
   "outputs": [
    {
     "name": "stdout",
     "output_type": "stream",
     "text": [
      "(41009, 4)\n",
      "<class 'pandas.core.frame.DataFrame'>\n",
      "Int64Index: 41009 entries, 0 to 9223308018930726010\n",
      "Data columns (total 4 columns):\n",
      " #   Column                   Non-Null Count  Dtype  \n",
      "---  ------                   --------------  -----  \n",
      " 0   Total_Cart_value         41009 non-null  float64\n",
      " 1   Total_Product_purchased  41009 non-null  int64  \n",
      " 2   No_of_times_visited      41009 non-null  float64\n",
      " 3   Time_Spent               41009 non-null  float64\n",
      "dtypes: float64(3), int64(1)\n",
      "memory usage: 1.6 MB\n",
      "None\n",
      "       Total_Cart_value  Total_Product_purchased  No_of_times_visited  \\\n",
      "count      4.100900e+04             41009.000000         4.100900e+04   \n",
      "mean       1.357895e+02                 1.945792         5.501161e+01   \n",
      "std        6.792351e+03                99.733169         6.952201e+03   \n",
      "min        8.400000e+00                 1.000000         1.000000e+00   \n",
      "25%        4.114000e+01                 1.000000         6.000000e+00   \n",
      "50%        6.550000e+01                 1.000000         1.300000e+01   \n",
      "75%        1.040000e+02                 2.000000         2.500000e+01   \n",
      "max        1.375102e+06             20197.000000         1.407879e+06   \n",
      "\n",
      "         Time_Spent  \n",
      "count  41009.000000  \n",
      "mean     702.131538  \n",
      "std      482.789432  \n",
      "min      -17.681883  \n",
      "25%      164.349883  \n",
      "50%      814.971033  \n",
      "75%     1147.763850  \n",
      "max     1439.969783  \n"
     ]
    },
    {
     "data": {
      "text/html": [
       "<div>\n",
       "<style scoped>\n",
       "    .dataframe tbody tr th:only-of-type {\n",
       "        vertical-align: middle;\n",
       "    }\n",
       "\n",
       "    .dataframe tbody tr th {\n",
       "        vertical-align: top;\n",
       "    }\n",
       "\n",
       "    .dataframe thead th {\n",
       "        text-align: right;\n",
       "    }\n",
       "</style>\n",
       "<table border=\"1\" class=\"dataframe\">\n",
       "  <thead>\n",
       "    <tr style=\"text-align: right;\">\n",
       "      <th></th>\n",
       "      <th>index</th>\n",
       "      <th>Missing Data</th>\n",
       "      <th>Unique Data</th>\n",
       "      <th>Data Types</th>\n",
       "    </tr>\n",
       "  </thead>\n",
       "  <tbody>\n",
       "    <tr>\n",
       "      <th>0</th>\n",
       "      <td>Total_Cart_value</td>\n",
       "      <td>0</td>\n",
       "      <td>9299</td>\n",
       "      <td>float64</td>\n",
       "    </tr>\n",
       "    <tr>\n",
       "      <th>1</th>\n",
       "      <td>Total_Product_purchased</td>\n",
       "      <td>0</td>\n",
       "      <td>22</td>\n",
       "      <td>int64</td>\n",
       "    </tr>\n",
       "    <tr>\n",
       "      <th>2</th>\n",
       "      <td>No_of_times_visited</td>\n",
       "      <td>0</td>\n",
       "      <td>271</td>\n",
       "      <td>float64</td>\n",
       "    </tr>\n",
       "    <tr>\n",
       "      <th>3</th>\n",
       "      <td>Time_Spent</td>\n",
       "      <td>0</td>\n",
       "      <td>40990</td>\n",
       "      <td>float64</td>\n",
       "    </tr>\n",
       "  </tbody>\n",
       "</table>\n",
       "</div>"
      ],
      "text/plain": [
       "                     index  Missing Data  Unique Data Data Types\n",
       "0         Total_Cart_value             0         9299    float64\n",
       "1  Total_Product_purchased             0           22      int64\n",
       "2      No_of_times_visited             0          271    float64\n",
       "3               Time_Spent             0        40990    float64"
      ]
     },
     "execution_count": 26,
     "metadata": {},
     "output_type": "execute_result"
    }
   ],
   "source": [
    "print(data.shape)\n",
    "print(data.info())\n",
    "print(data.describe())\n",
    "df_summary(data)"
   ]
  },
  {
   "cell_type": "code",
   "execution_count": null,
   "metadata": {},
   "outputs": [],
   "source": []
  },
  {
   "cell_type": "code",
   "execution_count": 27,
   "metadata": {
    "scrolled": true
   },
   "outputs": [
    {
     "data": {
      "text/html": [
       "<div>\n",
       "<style scoped>\n",
       "    .dataframe tbody tr th:only-of-type {\n",
       "        vertical-align: middle;\n",
       "    }\n",
       "\n",
       "    .dataframe tbody tr th {\n",
       "        vertical-align: top;\n",
       "    }\n",
       "\n",
       "    .dataframe thead th {\n",
       "        text-align: right;\n",
       "    }\n",
       "</style>\n",
       "<table border=\"1\" class=\"dataframe\">\n",
       "  <thead>\n",
       "    <tr style=\"text-align: right;\">\n",
       "      <th></th>\n",
       "      <th>Total_Cart_value</th>\n",
       "      <th>Total_Product_purchased</th>\n",
       "      <th>No_of_times_visited</th>\n",
       "      <th>Time_Spent</th>\n",
       "      <th>BuyProbability</th>\n",
       "    </tr>\n",
       "    <tr>\n",
       "      <th>UserID</th>\n",
       "      <th></th>\n",
       "      <th></th>\n",
       "      <th></th>\n",
       "      <th></th>\n",
       "      <th></th>\n",
       "    </tr>\n",
       "  </thead>\n",
       "  <tbody>\n",
       "    <tr>\n",
       "      <th>0</th>\n",
       "      <td>1375101.66</td>\n",
       "      <td>20197</td>\n",
       "      <td>1407879.0</td>\n",
       "      <td>1439.969783</td>\n",
       "      <td>0.014346</td>\n",
       "    </tr>\n",
       "    <tr>\n",
       "      <th>2941287703</th>\n",
       "      <td>75.34</td>\n",
       "      <td>1</td>\n",
       "      <td>3.0</td>\n",
       "      <td>1206.404500</td>\n",
       "      <td>0.333333</td>\n",
       "    </tr>\n",
       "    <tr>\n",
       "      <th>71023925710020</th>\n",
       "      <td>89.96</td>\n",
       "      <td>1</td>\n",
       "      <td>2.0</td>\n",
       "      <td>687.885650</td>\n",
       "      <td>0.500000</td>\n",
       "    </tr>\n",
       "    <tr>\n",
       "      <th>394529638495081</th>\n",
       "      <td>94.34</td>\n",
       "      <td>1</td>\n",
       "      <td>3.0</td>\n",
       "      <td>616.336717</td>\n",
       "      <td>0.333333</td>\n",
       "    </tr>\n",
       "    <tr>\n",
       "      <th>430191686443660</th>\n",
       "      <td>84.70</td>\n",
       "      <td>2</td>\n",
       "      <td>13.0</td>\n",
       "      <td>999.107750</td>\n",
       "      <td>0.153846</td>\n",
       "    </tr>\n",
       "  </tbody>\n",
       "</table>\n",
       "</div>"
      ],
      "text/plain": [
       "                 Total_Cart_value  Total_Product_purchased  \\\n",
       "UserID                                                       \n",
       "0                      1375101.66                    20197   \n",
       "2941287703                  75.34                        1   \n",
       "71023925710020              89.96                        1   \n",
       "394529638495081             94.34                        1   \n",
       "430191686443660             84.70                        2   \n",
       "\n",
       "                 No_of_times_visited   Time_Spent  BuyProbability  \n",
       "UserID                                                             \n",
       "0                          1407879.0  1439.969783        0.014346  \n",
       "2941287703                       3.0  1206.404500        0.333333  \n",
       "71023925710020                   2.0   687.885650        0.500000  \n",
       "394529638495081                  3.0   616.336717        0.333333  \n",
       "430191686443660                 13.0   999.107750        0.153846  "
      ]
     },
     "execution_count": 27,
     "metadata": {},
     "output_type": "execute_result"
    }
   ],
   "source": [
    "data['BuyProbability']=(data['Total_Product_purchased']/data['No_of_times_visited'])\n",
    "data.head()"
   ]
  },
  {
   "cell_type": "code",
   "execution_count": 28,
   "metadata": {},
   "outputs": [],
   "source": [
    "data['Target']=data['BuyProbability']*data['Total_Cart_value']"
   ]
  },
  {
   "cell_type": "code",
   "execution_count": 29,
   "metadata": {},
   "outputs": [],
   "source": [
    "data.to_csv('Final_Data.csv')"
   ]
  },
  {
   "cell_type": "code",
   "execution_count": 30,
   "metadata": {},
   "outputs": [
    {
     "name": "stdout",
     "output_type": "stream",
     "text": [
      "                 Total_Cart_value  Total_Product_purchased  \\\n",
      "UserID                                                       \n",
      "0                      1375101.66                    20197   \n",
      "2941287703                  75.34                        1   \n",
      "71023925710020              89.96                        1   \n",
      "394529638495081             94.34                        1   \n",
      "430191686443660             84.70                        2   \n",
      "\n",
      "                 No_of_times_visited   Time_Spent  BuyProbability  \\\n",
      "UserID                                                              \n",
      "0                          1407879.0  1439.969783        0.014346   \n",
      "2941287703                       3.0  1206.404500        0.333333   \n",
      "71023925710020                   2.0   687.885650        0.500000   \n",
      "394529638495081                  3.0   616.336717        0.333333   \n",
      "430191686443660                 13.0   999.107750        0.153846   \n",
      "\n",
      "                       Target  \n",
      "UserID                         \n",
      "0                19726.786341  \n",
      "2941287703          25.113333  \n",
      "71023925710020      44.980000  \n",
      "394529638495081     31.446667  \n",
      "430191686443660     13.030769  \n"
     ]
    }
   ],
   "source": [
    "print(data.head())"
   ]
  },
  {
   "cell_type": "code",
   "execution_count": 31,
   "metadata": {
    "scrolled": true
   },
   "outputs": [
    {
     "name": "stdout",
     "output_type": "stream",
     "text": [
      "(41009, 6)\n",
      "<class 'pandas.core.frame.DataFrame'>\n",
      "Int64Index: 41009 entries, 0 to 9223308018930726010\n",
      "Data columns (total 6 columns):\n",
      " #   Column                   Non-Null Count  Dtype  \n",
      "---  ------                   --------------  -----  \n",
      " 0   Total_Cart_value         41009 non-null  float64\n",
      " 1   Total_Product_purchased  41009 non-null  int64  \n",
      " 2   No_of_times_visited      41009 non-null  float64\n",
      " 3   Time_Spent               41009 non-null  float64\n",
      " 4   BuyProbability           41009 non-null  float64\n",
      " 5   Target                   41009 non-null  float64\n",
      "dtypes: float64(5), int64(1)\n",
      "memory usage: 2.2 MB\n",
      "None\n",
      "       Total_Cart_value  Total_Product_purchased  No_of_times_visited  \\\n",
      "count      4.100900e+04             41009.000000         4.100900e+04   \n",
      "mean       1.357895e+02                 1.945792         5.501161e+01   \n",
      "std        6.792351e+03                99.733169         6.952201e+03   \n",
      "min        8.400000e+00                 1.000000         1.000000e+00   \n",
      "25%        4.114000e+01                 1.000000         6.000000e+00   \n",
      "50%        6.550000e+01                 1.000000         1.300000e+01   \n",
      "75%        1.040000e+02                 2.000000         2.500000e+01   \n",
      "max        1.375102e+06             20197.000000         1.407879e+06   \n",
      "\n",
      "         Time_Spent  BuyProbability        Target  \n",
      "count  41009.000000    41009.000000  41009.000000  \n",
      "mean     702.131538        0.149925     16.007365  \n",
      "std      482.789432        0.177021    109.842920  \n",
      "min      -17.681883        0.001383      0.028867  \n",
      "25%      164.349883        0.052632      2.998667  \n",
      "50%      814.971033        0.100000      6.903636  \n",
      "75%     1147.763850        0.200000     15.616000  \n",
      "max     1439.969783        6.000000  19726.786341  \n"
     ]
    },
    {
     "data": {
      "text/html": [
       "<div>\n",
       "<style scoped>\n",
       "    .dataframe tbody tr th:only-of-type {\n",
       "        vertical-align: middle;\n",
       "    }\n",
       "\n",
       "    .dataframe tbody tr th {\n",
       "        vertical-align: top;\n",
       "    }\n",
       "\n",
       "    .dataframe thead th {\n",
       "        text-align: right;\n",
       "    }\n",
       "</style>\n",
       "<table border=\"1\" class=\"dataframe\">\n",
       "  <thead>\n",
       "    <tr style=\"text-align: right;\">\n",
       "      <th></th>\n",
       "      <th>index</th>\n",
       "      <th>Missing Data</th>\n",
       "      <th>Unique Data</th>\n",
       "      <th>Data Types</th>\n",
       "    </tr>\n",
       "  </thead>\n",
       "  <tbody>\n",
       "    <tr>\n",
       "      <th>0</th>\n",
       "      <td>Total_Cart_value</td>\n",
       "      <td>0</td>\n",
       "      <td>9299</td>\n",
       "      <td>float64</td>\n",
       "    </tr>\n",
       "    <tr>\n",
       "      <th>1</th>\n",
       "      <td>Total_Product_purchased</td>\n",
       "      <td>0</td>\n",
       "      <td>22</td>\n",
       "      <td>int64</td>\n",
       "    </tr>\n",
       "    <tr>\n",
       "      <th>2</th>\n",
       "      <td>No_of_times_visited</td>\n",
       "      <td>0</td>\n",
       "      <td>271</td>\n",
       "      <td>float64</td>\n",
       "    </tr>\n",
       "    <tr>\n",
       "      <th>3</th>\n",
       "      <td>Time_Spent</td>\n",
       "      <td>0</td>\n",
       "      <td>40990</td>\n",
       "      <td>float64</td>\n",
       "    </tr>\n",
       "    <tr>\n",
       "      <th>4</th>\n",
       "      <td>BuyProbability</td>\n",
       "      <td>0</td>\n",
       "      <td>729</td>\n",
       "      <td>float64</td>\n",
       "    </tr>\n",
       "    <tr>\n",
       "      <th>5</th>\n",
       "      <td>Target</td>\n",
       "      <td>0</td>\n",
       "      <td>21070</td>\n",
       "      <td>float64</td>\n",
       "    </tr>\n",
       "  </tbody>\n",
       "</table>\n",
       "</div>"
      ],
      "text/plain": [
       "                     index  Missing Data  Unique Data Data Types\n",
       "0         Total_Cart_value             0         9299    float64\n",
       "1  Total_Product_purchased             0           22      int64\n",
       "2      No_of_times_visited             0          271    float64\n",
       "3               Time_Spent             0        40990    float64\n",
       "4           BuyProbability             0          729    float64\n",
       "5                   Target             0        21070    float64"
      ]
     },
     "execution_count": 31,
     "metadata": {},
     "output_type": "execute_result"
    }
   ],
   "source": [
    "print(data.shape)\n",
    "print(data.info())\n",
    "print(data.describe())\n",
    "df_summary(data)\n",
    "\n"
   ]
  },
  {
   "cell_type": "code",
   "execution_count": 32,
   "metadata": {},
   "outputs": [],
   "source": [
    "# Data Visulisation\n",
    "#sns.pairplot(data)\n",
    "#plt.show()\n"
   ]
  },
  {
   "cell_type": "code",
   "execution_count": 33,
   "metadata": {},
   "outputs": [],
   "source": [
    "from sklearn.preprocessing import MinMaxScaler\n",
    "scaler = MinMaxScaler()\n",
    "cols=['Total_Cart_value','Total_Product_purchased','No_of_times_visited','Time_Spent','BuyProbability','Target']\n",
    "data[cols] = scaler.fit_transform(data[cols])"
   ]
  },
  {
   "cell_type": "code",
   "execution_count": 34,
   "metadata": {},
   "outputs": [
    {
     "data": {
      "text/html": [
       "<div>\n",
       "<style scoped>\n",
       "    .dataframe tbody tr th:only-of-type {\n",
       "        vertical-align: middle;\n",
       "    }\n",
       "\n",
       "    .dataframe tbody tr th {\n",
       "        vertical-align: top;\n",
       "    }\n",
       "\n",
       "    .dataframe thead th {\n",
       "        text-align: right;\n",
       "    }\n",
       "</style>\n",
       "<table border=\"1\" class=\"dataframe\">\n",
       "  <thead>\n",
       "    <tr style=\"text-align: right;\">\n",
       "      <th></th>\n",
       "      <th>Total_Cart_value</th>\n",
       "      <th>Total_Product_purchased</th>\n",
       "      <th>No_of_times_visited</th>\n",
       "      <th>Time_Spent</th>\n",
       "      <th>BuyProbability</th>\n",
       "      <th>Target</th>\n",
       "    </tr>\n",
       "    <tr>\n",
       "      <th>UserID</th>\n",
       "      <th></th>\n",
       "      <th></th>\n",
       "      <th></th>\n",
       "      <th></th>\n",
       "      <th></th>\n",
       "      <th></th>\n",
       "    </tr>\n",
       "  </thead>\n",
       "  <tbody>\n",
       "    <tr>\n",
       "      <th>0</th>\n",
       "      <td>1.000000</td>\n",
       "      <td>1.00000</td>\n",
       "      <td>1.000000e+00</td>\n",
       "      <td>1.000000</td>\n",
       "      <td>0.002161</td>\n",
       "      <td>1.000000</td>\n",
       "    </tr>\n",
       "    <tr>\n",
       "      <th>2941287703</th>\n",
       "      <td>0.000049</td>\n",
       "      <td>0.00000</td>\n",
       "      <td>1.420578e-06</td>\n",
       "      <td>0.839766</td>\n",
       "      <td>0.055338</td>\n",
       "      <td>0.001272</td>\n",
       "    </tr>\n",
       "    <tr>\n",
       "      <th>71023925710020</th>\n",
       "      <td>0.000059</td>\n",
       "      <td>0.00000</td>\n",
       "      <td>7.102888e-07</td>\n",
       "      <td>0.484044</td>\n",
       "      <td>0.083122</td>\n",
       "      <td>0.002279</td>\n",
       "    </tr>\n",
       "    <tr>\n",
       "      <th>394529638495081</th>\n",
       "      <td>0.000062</td>\n",
       "      <td>0.00000</td>\n",
       "      <td>1.420578e-06</td>\n",
       "      <td>0.434959</td>\n",
       "      <td>0.055338</td>\n",
       "      <td>0.001593</td>\n",
       "    </tr>\n",
       "    <tr>\n",
       "      <th>430191686443660</th>\n",
       "      <td>0.000055</td>\n",
       "      <td>0.00005</td>\n",
       "      <td>8.523466e-06</td>\n",
       "      <td>0.697553</td>\n",
       "      <td>0.025416</td>\n",
       "      <td>0.000659</td>\n",
       "    </tr>\n",
       "  </tbody>\n",
       "</table>\n",
       "</div>"
      ],
      "text/plain": [
       "                 Total_Cart_value  Total_Product_purchased  \\\n",
       "UserID                                                       \n",
       "0                        1.000000                  1.00000   \n",
       "2941287703               0.000049                  0.00000   \n",
       "71023925710020           0.000059                  0.00000   \n",
       "394529638495081          0.000062                  0.00000   \n",
       "430191686443660          0.000055                  0.00005   \n",
       "\n",
       "                 No_of_times_visited  Time_Spent  BuyProbability    Target  \n",
       "UserID                                                                      \n",
       "0                       1.000000e+00    1.000000        0.002161  1.000000  \n",
       "2941287703              1.420578e-06    0.839766        0.055338  0.001272  \n",
       "71023925710020          7.102888e-07    0.484044        0.083122  0.002279  \n",
       "394529638495081         1.420578e-06    0.434959        0.055338  0.001593  \n",
       "430191686443660         8.523466e-06    0.697553        0.025416  0.000659  "
      ]
     },
     "execution_count": 34,
     "metadata": {},
     "output_type": "execute_result"
    }
   ],
   "source": [
    "data.head()"
   ]
  },
  {
   "cell_type": "code",
   "execution_count": 35,
   "metadata": {},
   "outputs": [
    {
     "data": {
      "text/html": [
       "<div>\n",
       "<style scoped>\n",
       "    .dataframe tbody tr th:only-of-type {\n",
       "        vertical-align: middle;\n",
       "    }\n",
       "\n",
       "    .dataframe tbody tr th {\n",
       "        vertical-align: top;\n",
       "    }\n",
       "\n",
       "    .dataframe thead th {\n",
       "        text-align: right;\n",
       "    }\n",
       "</style>\n",
       "<table border=\"1\" class=\"dataframe\">\n",
       "  <thead>\n",
       "    <tr style=\"text-align: right;\">\n",
       "      <th></th>\n",
       "      <th>Total_Cart_value</th>\n",
       "      <th>Total_Product_purchased</th>\n",
       "      <th>No_of_times_visited</th>\n",
       "      <th>Time_Spent</th>\n",
       "      <th>BuyProbability</th>\n",
       "      <th>Target</th>\n",
       "    </tr>\n",
       "    <tr>\n",
       "      <th>UserID</th>\n",
       "      <th></th>\n",
       "      <th></th>\n",
       "      <th></th>\n",
       "      <th></th>\n",
       "      <th></th>\n",
       "      <th></th>\n",
       "    </tr>\n",
       "  </thead>\n",
       "  <tbody>\n",
       "    <tr>\n",
       "      <th>7875129005403877330</th>\n",
       "      <td>0.000044</td>\n",
       "      <td>0.00000</td>\n",
       "      <td>0.000004</td>\n",
       "      <td>0.872462</td>\n",
       "      <td>0.027554</td>\n",
       "      <td>0.000584</td>\n",
       "    </tr>\n",
       "    <tr>\n",
       "      <th>5813914089058294418</th>\n",
       "      <td>0.000001</td>\n",
       "      <td>0.00000</td>\n",
       "      <td>0.000005</td>\n",
       "      <td>0.156364</td>\n",
       "      <td>0.020608</td>\n",
       "      <td>0.000062</td>\n",
       "    </tr>\n",
       "    <tr>\n",
       "      <th>5962835550562553448</th>\n",
       "      <td>0.000117</td>\n",
       "      <td>0.00000</td>\n",
       "      <td>0.000010</td>\n",
       "      <td>0.650628</td>\n",
       "      <td>0.010883</td>\n",
       "      <td>0.000569</td>\n",
       "    </tr>\n",
       "    <tr>\n",
       "      <th>3476445029083182143</th>\n",
       "      <td>0.000069</td>\n",
       "      <td>0.00005</td>\n",
       "      <td>0.000013</td>\n",
       "      <td>0.726420</td>\n",
       "      <td>0.017317</td>\n",
       "      <td>0.000548</td>\n",
       "    </tr>\n",
       "    <tr>\n",
       "      <th>2766452189529119335</th>\n",
       "      <td>0.000071</td>\n",
       "      <td>0.00000</td>\n",
       "      <td>0.000031</td>\n",
       "      <td>0.032013</td>\n",
       "      <td>0.003558</td>\n",
       "      <td>0.000121</td>\n",
       "    </tr>\n",
       "  </tbody>\n",
       "</table>\n",
       "</div>"
      ],
      "text/plain": [
       "                     Total_Cart_value  Total_Product_purchased  \\\n",
       "UserID                                                           \n",
       "7875129005403877330          0.000044                  0.00000   \n",
       "5813914089058294418          0.000001                  0.00000   \n",
       "5962835550562553448          0.000117                  0.00000   \n",
       "3476445029083182143          0.000069                  0.00005   \n",
       "2766452189529119335          0.000071                  0.00000   \n",
       "\n",
       "                     No_of_times_visited  Time_Spent  BuyProbability    Target  \n",
       "UserID                                                                          \n",
       "7875129005403877330             0.000004    0.872462        0.027554  0.000584  \n",
       "5813914089058294418             0.000005    0.156364        0.020608  0.000062  \n",
       "5962835550562553448             0.000010    0.650628        0.010883  0.000569  \n",
       "3476445029083182143             0.000013    0.726420        0.017317  0.000548  \n",
       "2766452189529119335             0.000031    0.032013        0.003558  0.000121  "
      ]
     },
     "execution_count": 35,
     "metadata": {},
     "output_type": "execute_result"
    }
   ],
   "source": [
    "# spliting data into train/test data\n",
    "from sklearn.model_selection import train_test_split\n",
    "df_train, df_test = train_test_split(data, train_size = 0.7, test_size = 0.3, random_state = 100)\n",
    "df_train.head()"
   ]
  },
  {
   "cell_type": "code",
   "execution_count": 36,
   "metadata": {},
   "outputs": [
    {
     "data": {
      "image/png": "[encoded data removed]",
      "text/plain": [
       "<Figure size 1080x864 with 2 Axes>"
      ]
     },
     "metadata": {
      "needs_background": "light"
     },
     "output_type": "display_data"
    }
   ],
   "source": [
    "#corelation of features\n",
    "plt.figure(figsize = (15, 12))\n",
    "sns.heatmap(df_train.corr().abs(), annot = True, cmap=\"YlGnBu\")\n",
    "plt.show()"
   ]
  },
  {
   "cell_type": "code",
   "execution_count": 37,
   "metadata": {},
   "outputs": [],
   "source": [
    "#Target feature is highly +ve corelated with Total cart value,Total product purchased and No of times visited"
   ]
  },
  {
   "cell_type": "code",
   "execution_count": 38,
   "metadata": {},
   "outputs": [
    {
     "data": {
      "image/png": "[encoded data removed]",
      "text/plain": [
       "<Figure size 432x432 with 1 Axes>"
      ]
     },
     "metadata": {
      "needs_background": "light"
     },
     "output_type": "display_data"
    }
   ],
   "source": [
    "plt.figure(figsize=[6,6])\n",
    "plt.scatter(df_train.Total_Cart_value, df_train.Target)\n",
    "plt.scatter(df_train.Total_Product_purchased, df_train.Target)\n",
    "plt.scatter(df_train.No_of_times_visited, df_train.Target)\n",
    "\n",
    "plt.show()"
   ]
  },
  {
   "cell_type": "markdown",
   "metadata": {},
   "source": [
    "# Linear Regression"
   ]
  },
  {
   "cell_type": "code",
   "execution_count": 39,
   "metadata": {},
   "outputs": [
    {
     "data": {
      "text/html": [
       "<div>\n",
       "<style scoped>\n",
       "    .dataframe tbody tr th:only-of-type {\n",
       "        vertical-align: middle;\n",
       "    }\n",
       "\n",
       "    .dataframe tbody tr th {\n",
       "        vertical-align: top;\n",
       "    }\n",
       "\n",
       "    .dataframe thead th {\n",
       "        text-align: right;\n",
       "    }\n",
       "</style>\n",
       "<table border=\"1\" class=\"dataframe\">\n",
       "  <thead>\n",
       "    <tr style=\"text-align: right;\">\n",
       "      <th></th>\n",
       "      <th>Total_Cart_value</th>\n",
       "      <th>Total_Product_purchased</th>\n",
       "      <th>No_of_times_visited</th>\n",
       "      <th>Time_Spent</th>\n",
       "      <th>BuyProbability</th>\n",
       "    </tr>\n",
       "    <tr>\n",
       "      <th>UserID</th>\n",
       "      <th></th>\n",
       "      <th></th>\n",
       "      <th></th>\n",
       "      <th></th>\n",
       "      <th></th>\n",
       "    </tr>\n",
       "  </thead>\n",
       "  <tbody>\n",
       "    <tr>\n",
       "      <th>7875129005403877330</th>\n",
       "      <td>0.000044</td>\n",
       "      <td>0.00000</td>\n",
       "      <td>0.000004</td>\n",
       "      <td>0.872462</td>\n",
       "      <td>0.027554</td>\n",
       "    </tr>\n",
       "    <tr>\n",
       "      <th>5813914089058294418</th>\n",
       "      <td>0.000001</td>\n",
       "      <td>0.00000</td>\n",
       "      <td>0.000005</td>\n",
       "      <td>0.156364</td>\n",
       "      <td>0.020608</td>\n",
       "    </tr>\n",
       "    <tr>\n",
       "      <th>5962835550562553448</th>\n",
       "      <td>0.000117</td>\n",
       "      <td>0.00000</td>\n",
       "      <td>0.000010</td>\n",
       "      <td>0.650628</td>\n",
       "      <td>0.010883</td>\n",
       "    </tr>\n",
       "    <tr>\n",
       "      <th>3476445029083182143</th>\n",
       "      <td>0.000069</td>\n",
       "      <td>0.00005</td>\n",
       "      <td>0.000013</td>\n",
       "      <td>0.726420</td>\n",
       "      <td>0.017317</td>\n",
       "    </tr>\n",
       "    <tr>\n",
       "      <th>2766452189529119335</th>\n",
       "      <td>0.000071</td>\n",
       "      <td>0.00000</td>\n",
       "      <td>0.000031</td>\n",
       "      <td>0.032013</td>\n",
       "      <td>0.003558</td>\n",
       "    </tr>\n",
       "  </tbody>\n",
       "</table>\n",
       "</div>"
      ],
      "text/plain": [
       "                     Total_Cart_value  Total_Product_purchased  \\\n",
       "UserID                                                           \n",
       "7875129005403877330          0.000044                  0.00000   \n",
       "5813914089058294418          0.000001                  0.00000   \n",
       "5962835550562553448          0.000117                  0.00000   \n",
       "3476445029083182143          0.000069                  0.00005   \n",
       "2766452189529119335          0.000071                  0.00000   \n",
       "\n",
       "                     No_of_times_visited  Time_Spent  BuyProbability  \n",
       "UserID                                                                \n",
       "7875129005403877330             0.000004    0.872462        0.027554  \n",
       "5813914089058294418             0.000005    0.156364        0.020608  \n",
       "5962835550562553448             0.000010    0.650628        0.010883  \n",
       "3476445029083182143             0.000013    0.726420        0.017317  \n",
       "2766452189529119335             0.000031    0.032013        0.003558  "
      ]
     },
     "execution_count": 39,
     "metadata": {},
     "output_type": "execute_result"
    }
   ],
   "source": [
    "# Drop the target feature  (price)\n",
    "y_train = df_train.pop('Target')\n",
    "X_train = df_train\n",
    "X_train.head()"
   ]
  },
  {
   "cell_type": "code",
   "execution_count": 40,
   "metadata": {},
   "outputs": [
    {
     "name": "stdout",
     "output_type": "stream",
     "text": [
      "const                       0.000122\n",
      "Total_Cart_value           11.319525\n",
      "Total_Product_purchased     5.164070\n",
      "No_of_times_visited       -15.483859\n",
      "dtype: float64\n",
      "                            OLS Regression Results                            \n",
      "==============================================================================\n",
      "Dep. Variable:                 Target   R-squared:                       0.871\n",
      "Model:                            OLS   Adj. R-squared:                  0.871\n",
      "Method:                 Least Squares   F-statistic:                 6.449e+04\n",
      "Date:                Sat, 10 Jul 2021   Prob (F-statistic):               0.00\n",
      "Time:                        14:59:18   Log-Likelihood:             1.3294e+05\n",
      "No. Observations:               28706   AIC:                        -2.659e+05\n",
      "Df Residuals:                   28702   BIC:                        -2.658e+05\n",
      "Df Model:                           3                                         \n",
      "Covariance Type:            nonrobust                                         \n",
      "===========================================================================================\n",
      "                              coef    std err          t      P>|t|      [0.025      0.975]\n",
      "-------------------------------------------------------------------------------------------\n",
      "const                       0.0001    1.5e-05      8.092      0.000    9.21e-05       0.000\n",
      "Total_Cart_value           11.3195      0.105    107.474      0.000      11.113      11.526\n",
      "Total_Product_purchased     5.1641      0.300     17.213      0.000       4.576       5.752\n",
      "No_of_times_visited       -15.4839      0.289    -53.600      0.000     -16.050     -14.918\n",
      "==============================================================================\n",
      "Omnibus:                    84560.085   Durbin-Watson:                   2.001\n",
      "Prob(Omnibus):                  0.000   Jarque-Bera (JB):       9954615671.064\n",
      "Skew:                          41.523   Prob(JB):                         0.00\n",
      "Kurtosis:                    2886.710   Cond. No.                     2.95e+04\n",
      "==============================================================================\n",
      "\n",
      "Notes:\n",
      "[1] Standard Errors assume that the covariance matrix of the errors is correctly specified.\n",
      "[2] The condition number is large, 2.95e+04. This might indicate that there are\n",
      "strong multicollinearity or other numerical problems.\n"
     ]
    }
   ],
   "source": [
    "# Build a linear model\n",
    "# features having corelation value more than 0.8\n",
    "X_train_lm1 = X_train[['Total_Cart_value','Total_Product_purchased','No_of_times_visited']]\n",
    "\n",
    "import statsmodels.api as sm\n",
    "X_train_lm1 = sm.add_constant(X_train_lm1)\n",
    "\n",
    "lr = sm.OLS(y_train, X_train_lm1).fit()\n",
    "\n",
    "print(lr.params)\n",
    "print(lr.summary())\n"
   ]
  },
  {
   "cell_type": "code",
   "execution_count": 41,
   "metadata": {},
   "outputs": [
    {
     "name": "stdout",
     "output_type": "stream",
     "text": [
      "const                      -0.000811\n",
      "Total_Cart_value           11.290344\n",
      "Total_Product_purchased     0.269231\n",
      "No_of_times_visited       -10.558645\n",
      "Time_Spent                 -0.000114\n",
      "BuyProbability              0.041629\n",
      "dtype: float64\n",
      "                            OLS Regression Results                            \n",
      "==============================================================================\n",
      "Dep. Variable:                 Target   R-squared:                       0.905\n",
      "Model:                            OLS   Adj. R-squared:                  0.905\n",
      "Method:                 Least Squares   F-statistic:                 5.462e+04\n",
      "Date:                Sat, 10 Jul 2021   Prob (F-statistic):               0.00\n",
      "Time:                        14:59:18   Log-Likelihood:             1.3734e+05\n",
      "No. Observations:               28706   AIC:                        -2.747e+05\n",
      "Df Residuals:                   28700   BIC:                        -2.746e+05\n",
      "Df Model:                           5                                         \n",
      "Covariance Type:            nonrobust                                         \n",
      "===========================================================================================\n",
      "                              coef    std err          t      P>|t|      [0.025      0.975]\n",
      "-------------------------------------------------------------------------------------------\n",
      "const                      -0.0008   2.37e-05    -34.246      0.000      -0.001      -0.001\n",
      "Total_Cart_value           11.2903      0.091    124.661      0.000      11.113      11.468\n",
      "Total_Product_purchased     0.2692      0.262      1.026      0.305      -0.245       0.784\n",
      "No_of_times_visited       -10.5586      0.253    -41.770      0.000     -11.054     -10.063\n",
      "Time_Spent                 -0.0001   3.61e-05     -3.159      0.002      -0.000   -4.33e-05\n",
      "BuyProbability              0.0416      0.000    101.414      0.000       0.041       0.042\n",
      "==============================================================================\n",
      "Omnibus:                    85298.297   Durbin-Watson:                   1.996\n",
      "Prob(Omnibus):                  0.000   Jarque-Bera (JB):      11890611975.590\n",
      "Skew:                          42.458   Prob(JB):                         0.00\n",
      "Kurtosis:                    3154.838   Cond. No.                     3.38e+04\n",
      "==============================================================================\n",
      "\n",
      "Notes:\n",
      "[1] Standard Errors assume that the covariance matrix of the errors is correctly specified.\n",
      "[2] The condition number is large, 3.38e+04. This might indicate that there are\n",
      "strong multicollinearity or other numerical problems.\n"
     ]
    }
   ],
   "source": [
    "# Build a linear model\n",
    "# All features \n",
    "#X_train_lm1 = X_train[['Total_Cart_value','Total_Product_purchased','No_of_times_visited']]\n",
    "\n",
    "import statsmodels.api as sm\n",
    "X_train_lm2 = sm.add_constant(X_train)\n",
    "\n",
    "lr2 = sm.OLS(y_train, X_train_lm2).fit()\n",
    "\n",
    "print(lr2.params)\n",
    "print(lr2.summary())\n"
   ]
  },
  {
   "cell_type": "code",
   "execution_count": 42,
   "metadata": {},
   "outputs": [],
   "source": [
    "# R Square and Adjusted R2 both increased and Durbin Watson in also around 2 so we take lr2 as final model"
   ]
  },
  {
   "cell_type": "code",
   "execution_count": 43,
   "metadata": {},
   "outputs": [
    {
     "data": {
      "image/png": "[encoded data removed]",
      "text/plain": [
       "<Figure size 432x288 with 1 Axes>"
      ]
     },
     "metadata": {
      "needs_background": "light"
     },
     "output_type": "display_data"
    }
   ],
   "source": [
    "y_train_price = lr2.predict(X_train_lm2)\n",
    "# Plot the histogram of the error terms\n",
    "fig = plt.figure()\n",
    "sns.distplot((y_train - y_train_price), bins = 20)\n",
    "fig.suptitle('Error Terms', fontsize = 20)                  # Plot heading \n",
    "plt.xlabel('Errors', fontsize = 18)                         # X-label\n",
    "plt.show()"
   ]
  },
  {
   "cell_type": "code",
   "execution_count": 44,
   "metadata": {},
   "outputs": [],
   "source": [
    "#MAkng predictions"
   ]
  },
  {
   "cell_type": "code",
   "execution_count": 45,
   "metadata": {},
   "outputs": [],
   "source": [
    "X_test = sm.add_constant(df_test)"
   ]
  },
  {
   "cell_type": "code",
   "execution_count": 46,
   "metadata": {},
   "outputs": [
    {
     "name": "stdout",
     "output_type": "stream",
     "text": [
      "UserID\n",
      "5561924997883628788    0.000218\n",
      "8720550756461128407    0.000261\n",
      "7826643401988677359    0.000206\n",
      "2707379072536537785    0.000527\n",
      "7237600298871970825    0.000510\n",
      "                         ...   \n",
      "6084139948065130131    0.000227\n",
      "8940183383693357550    0.001069\n",
      "3482427713814823025    0.000252\n",
      "5368519689184953369    0.000429\n",
      "2958709906513957604    0.000650\n",
      "Name: Target, Length: 12303, dtype: float64\n",
      "<bound method DataFrame.info of                      const  Total_Cart_value  Total_Product_purchased  \\\n",
      "UserID                                                                  \n",
      "5561924997883628788    1.0          0.000051                      0.0   \n",
      "8720550756461128407    1.0          0.000028                      0.0   \n",
      "7826643401988677359    1.0          0.000083                      0.0   \n",
      "2707379072536537785    1.0          0.000032                      0.0   \n",
      "7237600298871970825    1.0          0.000456                      0.0   \n",
      "...                    ...               ...                      ...   \n",
      "6084139948065130131    1.0          0.000059                      0.0   \n",
      "8940183383693357550    1.0          0.000270                      0.0   \n",
      "3482427713814823025    1.0          0.000030                      0.0   \n",
      "5368519689184953369    1.0          0.000012                      0.0   \n",
      "2958709906513957604    1.0          0.000059                      0.0   \n",
      "\n",
      "                     No_of_times_visited  Time_Spent  BuyProbability  \n",
      "UserID                                                                \n",
      "5561924997883628788             0.000012    0.702700        0.009031  \n",
      "8720550756461128407             0.000006    0.506280        0.018292  \n",
      "7826643401988677359             0.000021    0.285446        0.005326  \n",
      "2707379072536537785             0.000003    0.093860        0.033110  \n",
      "7237600298871970825             0.000044    0.071394        0.002416  \n",
      "...                                  ...         ...             ...  \n",
      "6084139948065130131             0.000013    0.947393        0.008105  \n",
      "8940183383693357550             0.000012    0.859263        0.009031  \n",
      "3482427713814823025             0.000006    0.045117        0.016440  \n",
      "5368519689184953369             0.000001    0.530502        0.055338  \n",
      "2958709906513957604             0.000004    0.719611        0.023584  \n",
      "\n",
      "[12303 rows x 6 columns]>\n"
     ]
    }
   ],
   "source": [
    "y_test =X_test.pop('Target')####\n",
    "X_test =X_test\n",
    "print(y_test)\n",
    "print(X_test.info)"
   ]
  },
  {
   "cell_type": "code",
   "execution_count": 47,
   "metadata": {},
   "outputs": [
    {
     "data": {
      "text/plain": [
       "UserID\n",
       "5561924997883628788   -0.000072\n",
       "8720550756461128407    0.000146\n",
       "7826643401988677359    0.000101\n",
       "2707379072536537785    0.000885\n",
       "7237600298871970825    0.003967\n",
       "                         ...   \n",
       "6084139948065130131   -0.000055\n",
       "8940183383693357550    0.002390\n",
       "3482427713814823025    0.000142\n",
       "5368519689184953369    0.001557\n",
       "2958709906513957604    0.000713\n",
       "Length: 12303, dtype: float64"
      ]
     },
     "execution_count": 47,
     "metadata": {},
     "output_type": "execute_result"
    }
   ],
   "source": [
    "# Making predictions using second model\n",
    "y_pred_m2 = lr2.predict(X_test)\n",
    "y_pred_m2"
   ]
  },
  {
   "cell_type": "code",
   "execution_count": 48,
   "metadata": {},
   "outputs": [
    {
     "data": {
      "text/html": [
       "<div>\n",
       "<style scoped>\n",
       "    .dataframe tbody tr th:only-of-type {\n",
       "        vertical-align: middle;\n",
       "    }\n",
       "\n",
       "    .dataframe tbody tr th {\n",
       "        vertical-align: top;\n",
       "    }\n",
       "\n",
       "    .dataframe thead th {\n",
       "        text-align: right;\n",
       "    }\n",
       "</style>\n",
       "<table border=\"1\" class=\"dataframe\">\n",
       "  <thead>\n",
       "    <tr style=\"text-align: right;\">\n",
       "      <th></th>\n",
       "      <th>Real Values</th>\n",
       "      <th>Predicted Values</th>\n",
       "    </tr>\n",
       "    <tr>\n",
       "      <th>UserID</th>\n",
       "      <th></th>\n",
       "      <th></th>\n",
       "    </tr>\n",
       "  </thead>\n",
       "  <tbody>\n",
       "    <tr>\n",
       "      <th>5561924997883628788</th>\n",
       "      <td>0.000218</td>\n",
       "      <td>-0.000072</td>\n",
       "    </tr>\n",
       "    <tr>\n",
       "      <th>8720550756461128407</th>\n",
       "      <td>0.000261</td>\n",
       "      <td>0.000146</td>\n",
       "    </tr>\n",
       "    <tr>\n",
       "      <th>7826643401988677359</th>\n",
       "      <td>0.000206</td>\n",
       "      <td>0.000101</td>\n",
       "    </tr>\n",
       "    <tr>\n",
       "      <th>2707379072536537785</th>\n",
       "      <td>0.000527</td>\n",
       "      <td>0.000885</td>\n",
       "    </tr>\n",
       "    <tr>\n",
       "      <th>7237600298871970825</th>\n",
       "      <td>0.000510</td>\n",
       "      <td>0.003967</td>\n",
       "    </tr>\n",
       "    <tr>\n",
       "      <th>...</th>\n",
       "      <td>...</td>\n",
       "      <td>...</td>\n",
       "    </tr>\n",
       "    <tr>\n",
       "      <th>6084139948065130131</th>\n",
       "      <td>0.000227</td>\n",
       "      <td>-0.000055</td>\n",
       "    </tr>\n",
       "    <tr>\n",
       "      <th>8940183383693357550</th>\n",
       "      <td>0.001069</td>\n",
       "      <td>0.002390</td>\n",
       "    </tr>\n",
       "    <tr>\n",
       "      <th>3482427713814823025</th>\n",
       "      <td>0.000252</td>\n",
       "      <td>0.000142</td>\n",
       "    </tr>\n",
       "    <tr>\n",
       "      <th>5368519689184953369</th>\n",
       "      <td>0.000429</td>\n",
       "      <td>0.001557</td>\n",
       "    </tr>\n",
       "    <tr>\n",
       "      <th>2958709906513957604</th>\n",
       "      <td>0.000650</td>\n",
       "      <td>0.000713</td>\n",
       "    </tr>\n",
       "  </tbody>\n",
       "</table>\n",
       "<p>12303 rows × 2 columns</p>\n",
       "</div>"
      ],
      "text/plain": [
       "                     Real Values  Predicted Values\n",
       "UserID                                            \n",
       "5561924997883628788     0.000218         -0.000072\n",
       "8720550756461128407     0.000261          0.000146\n",
       "7826643401988677359     0.000206          0.000101\n",
       "2707379072536537785     0.000527          0.000885\n",
       "7237600298871970825     0.000510          0.003967\n",
       "...                          ...               ...\n",
       "6084139948065130131     0.000227         -0.000055\n",
       "8940183383693357550     0.001069          0.002390\n",
       "3482427713814823025     0.000252          0.000142\n",
       "5368519689184953369     0.000429          0.001557\n",
       "2958709906513957604     0.000650          0.000713\n",
       "\n",
       "[12303 rows x 2 columns]"
      ]
     },
     "execution_count": 48,
     "metadata": {},
     "output_type": "execute_result"
    }
   ],
   "source": [
    "df = pd.DataFrame({'Real Values':y_test, 'Predicted Values':y_pred_m2})\n",
    "df"
   ]
  },
  {
   "cell_type": "code",
   "execution_count": 49,
   "metadata": {},
   "outputs": [
    {
     "data": {
      "text/plain": [
       "Text(0, 0.5, 'y_pred')"
      ]
     },
     "execution_count": 49,
     "metadata": {},
     "output_type": "execute_result"
    },
    {
     "data": {
      "image/png": "[encoded data removed]",
      "text/plain": [
       "<Figure size 432x288 with 1 Axes>"
      ]
     },
     "metadata": {
      "needs_background": "light"
     },
     "output_type": "display_data"
    }
   ],
   "source": [
    "# Plotting y_test and y_pred to understand the spread\n",
    "import matplotlib.pyplot as plt\n",
    "fig = plt.figure()\n",
    "plt.scatter(y_test, y_pred_m2)\n",
    "fig.suptitle('y_test vs y_pred', fontsize = 20)              # Plot heading \n",
    "plt.xlabel('y_test', fontsize = 18)                          # X-label\n",
    "plt.ylabel('y_pred', fontsize = 16)"
   ]
  },
  {
   "cell_type": "code",
   "execution_count": 50,
   "metadata": {},
   "outputs": [
    {
     "data": {
      "text/plain": [
       "Text(0, 0.5, 'Residuals')"
      ]
     },
     "execution_count": 50,
     "metadata": {},
     "output_type": "execute_result"
    },
    {
     "data": {
      "image/png": "[encoded data removed]",
      "text/plain": [
       "<Figure size 432x288 with 1 Axes>"
      ]
     },
     "metadata": {
      "needs_background": "light"
     },
     "output_type": "display_data"
    }
   ],
   "source": [
    "# Plotting y_test and residual to understand the spread\n",
    "\n",
    "fig = plt.figure()\n",
    "plt.plot(y_test , y_test-y_pred_m2, '.')\n",
    "#fig.suptitle('Residuals', fontsize = 20)              # Plot heading \n",
    "plt.title(\"Residual\")\n",
    "plt.xlabel('y_test', fontsize = 18)                          # X-label\n",
    "plt.ylabel('Residuals', fontsize = 16)"
   ]
  },
  {
   "cell_type": "code",
   "execution_count": 51,
   "metadata": {},
   "outputs": [
    {
     "name": "stdout",
     "output_type": "stream",
     "text": [
      "\n",
      " Mean squared error =: 1.1379469668045397e-06\n",
      "\n",
      "Root Mean squared error =: 0.0010667459710749039\n",
      "\n",
      " Mean absolute error =: 0.0005140604131025077\n",
      "\n",
      " R2 Score =: 0.6601251417957328\n"
     ]
    }
   ],
   "source": [
    "from sklearn.metrics import mean_squared_error\n",
    "from sklearn.metrics import mean_absolute_error\n",
    "from sklearn.metrics import r2_score\n",
    "print(\"\\n Mean squared error =:\", mean_squared_error(y_pred_m2,y_test))\n",
    "print(\"\\nRoot Mean squared error =:\",np.sqrt(mean_squared_error(y_pred_m2,y_test)))\n",
    "print(\"\\n Mean absolute error =:\", mean_absolute_error(y_pred_m2,y_test))\n",
    "print(\"\\n R2 Score =:\", r2_score(y_pred_m2,y_test))"
   ]
  },
  {
   "cell_type": "markdown",
   "metadata": {},
   "source": [
    "-Target=-0.000811+Total_Cart_value*11.290344+Total_Product_purchased*0.269231+\n",
    "No_of_times_visited*-10.558645+Time_Spent*-0.000114+BuyProbability*0.041629"
   ]
  },
  {
   "cell_type": "markdown",
   "metadata": {},
   "source": [
    "# Decision Tree"
   ]
  },
  {
   "cell_type": "code",
   "execution_count": 7,
   "metadata": {},
   "outputs": [
    {
     "data": {
      "text/html": [
       "<div>\n",
       "<style scoped>\n",
       "    .dataframe tbody tr th:only-of-type {\n",
       "        vertical-align: middle;\n",
       "    }\n",
       "\n",
       "    .dataframe tbody tr th {\n",
       "        vertical-align: top;\n",
       "    }\n",
       "\n",
       "    .dataframe thead th {\n",
       "        text-align: right;\n",
       "    }\n",
       "</style>\n",
       "<table border=\"1\" class=\"dataframe\">\n",
       "  <thead>\n",
       "    <tr style=\"text-align: right;\">\n",
       "      <th></th>\n",
       "      <th>UserID</th>\n",
       "      <th>Total_Cart_value</th>\n",
       "      <th>Total_Product_purchased</th>\n",
       "      <th>No_of_times_visited</th>\n",
       "      <th>Time_Spent</th>\n",
       "      <th>BuyProbability</th>\n",
       "      <th>Target</th>\n",
       "    </tr>\n",
       "  </thead>\n",
       "  <tbody>\n",
       "    <tr>\n",
       "      <th>0</th>\n",
       "      <td>0</td>\n",
       "      <td>1375101.66</td>\n",
       "      <td>20197</td>\n",
       "      <td>1407879.0</td>\n",
       "      <td>1439.969783</td>\n",
       "      <td>0.014346</td>\n",
       "      <td>19726.786341</td>\n",
       "    </tr>\n",
       "    <tr>\n",
       "      <th>1</th>\n",
       "      <td>2941287703</td>\n",
       "      <td>75.34</td>\n",
       "      <td>1</td>\n",
       "      <td>3.0</td>\n",
       "      <td>1206.404500</td>\n",
       "      <td>0.333333</td>\n",
       "      <td>25.113333</td>\n",
       "    </tr>\n",
       "    <tr>\n",
       "      <th>2</th>\n",
       "      <td>71023925710020</td>\n",
       "      <td>89.96</td>\n",
       "      <td>1</td>\n",
       "      <td>2.0</td>\n",
       "      <td>687.885650</td>\n",
       "      <td>0.500000</td>\n",
       "      <td>44.980000</td>\n",
       "    </tr>\n",
       "    <tr>\n",
       "      <th>3</th>\n",
       "      <td>394529638495081</td>\n",
       "      <td>94.34</td>\n",
       "      <td>1</td>\n",
       "      <td>3.0</td>\n",
       "      <td>616.336717</td>\n",
       "      <td>0.333333</td>\n",
       "      <td>31.446667</td>\n",
       "    </tr>\n",
       "    <tr>\n",
       "      <th>4</th>\n",
       "      <td>430191686443660</td>\n",
       "      <td>84.70</td>\n",
       "      <td>2</td>\n",
       "      <td>13.0</td>\n",
       "      <td>999.107750</td>\n",
       "      <td>0.153846</td>\n",
       "      <td>13.030769</td>\n",
       "    </tr>\n",
       "  </tbody>\n",
       "</table>\n",
       "</div>"
      ],
      "text/plain": [
       "            UserID  Total_Cart_value  Total_Product_purchased  \\\n",
       "0                0        1375101.66                    20197   \n",
       "1       2941287703             75.34                        1   \n",
       "2   71023925710020             89.96                        1   \n",
       "3  394529638495081             94.34                        1   \n",
       "4  430191686443660             84.70                        2   \n",
       "\n",
       "   No_of_times_visited   Time_Spent  BuyProbability        Target  \n",
       "0            1407879.0  1439.969783        0.014346  19726.786341  \n",
       "1                  3.0  1206.404500        0.333333     25.113333  \n",
       "2                  2.0   687.885650        0.500000     44.980000  \n",
       "3                  3.0   616.336717        0.333333     31.446667  \n",
       "4                 13.0   999.107750        0.153846     13.030769  "
      ]
     },
     "execution_count": 7,
     "metadata": {},
     "output_type": "execute_result"
    }
   ],
   "source": [
    "Ddata=pd.read_csv('Final_Data.csv')\n",
    "Ddata.shape\n",
    "Ddata.head() #Ddata.info()"
   ]
  },
  {
   "cell_type": "code",
   "execution_count": 8,
   "metadata": {},
   "outputs": [],
   "source": [
    "from sklearn.preprocessing import StandardScaler\n",
    "scaler = StandardScaler()\n",
    "\n",
    "cols=['Total_Cart_value','Total_Product_purchased','No_of_times_visited','Time_Spent','BuyProbability','Target']\n",
    "#scaler.fit(X_train[cols])\n",
    "Ddata[cols] = scaler.fit_transform(Ddata[cols])\n"
   ]
  },
  {
   "cell_type": "code",
   "execution_count": 9,
   "metadata": {},
   "outputs": [
    {
     "name": "stdout",
     "output_type": "stream",
     "text": [
      "<class 'pandas.core.frame.DataFrame'>\n",
      "RangeIndex: 41009 entries, 0 to 41008\n",
      "Data columns (total 7 columns):\n",
      " #   Column                   Non-Null Count  Dtype  \n",
      "---  ------                   --------------  -----  \n",
      " 0   UserID                   41009 non-null  int64  \n",
      " 1   Total_Cart_value         41009 non-null  float64\n",
      " 2   Total_Product_purchased  41009 non-null  float64\n",
      " 3   No_of_times_visited      41009 non-null  float64\n",
      " 4   Time_Spent               41009 non-null  float64\n",
      " 5   BuyProbability           41009 non-null  float64\n",
      " 6   Target                   41009 non-null  float64\n",
      "dtypes: float64(6), int64(1)\n",
      "memory usage: 2.2 MB\n"
     ]
    }
   ],
   "source": [
    "Ddata.info()"
   ]
  },
  {
   "cell_type": "code",
   "execution_count": 10,
   "metadata": {
    "scrolled": true
   },
   "outputs": [
    {
     "name": "stdout",
     "output_type": "stream",
     "text": [
      "            UserID  Total_Cart_value  Total_Product_purchased  \\\n",
      "0                0        202.431046               202.493319   \n",
      "1       2941287703         -0.008900                -0.009483   \n",
      "2   71023925710020         -0.006747                -0.009483   \n",
      "3  394529638495081         -0.006102                -0.009483   \n",
      "4  430191686443660         -0.007522                 0.000544   \n",
      "\n",
      "   No_of_times_visited  Time_Spent  BuyProbability  \n",
      "0           202.502947    1.528300       -0.765900  \n",
      "1            -0.007481    1.044511        1.036097  \n",
      "2            -0.007625   -0.029508        1.977616  \n",
      "3            -0.007481   -0.177709        1.036097  \n",
      "4            -0.006043    0.615133        0.022154  \n"
     ]
    }
   ],
   "source": [
    "\n",
    "y=Ddata['Target']\n",
    "X=Ddata.drop(['Target'],axis=1)\n",
    "print(X.head())"
   ]
  },
  {
   "cell_type": "code",
   "execution_count": 11,
   "metadata": {},
   "outputs": [
    {
     "name": "stdout",
     "output_type": "stream",
     "text": [
      "<class 'pandas.core.frame.DataFrame'>\n",
      "Int64Index: 28706 entries, 12762 to 27098\n",
      "Data columns (total 6 columns):\n",
      " #   Column                   Non-Null Count  Dtype  \n",
      "---  ------                   --------------  -----  \n",
      " 0   UserID                   28706 non-null  int64  \n",
      " 1   Total_Cart_value         28706 non-null  float64\n",
      " 2   Total_Product_purchased  28706 non-null  float64\n",
      " 3   No_of_times_visited      28706 non-null  float64\n",
      " 4   Time_Spent               28706 non-null  float64\n",
      " 5   BuyProbability           28706 non-null  float64\n",
      "dtypes: float64(5), int64(1)\n",
      "memory usage: 1.5 MB\n",
      "None\n",
      "                    UserID  Total_Cart_value  Total_Product_purchased  \\\n",
      "12762  2843786458931322138         -0.014144                -0.009483   \n",
      "5459   1210197778340283384         -0.003732                -0.009483   \n",
      "27890  6255857515698668945          0.002681                -0.009483   \n",
      "3018    673879138685972674         -0.015808                -0.009483   \n",
      "27523  6164067352813114871         -0.012904                 0.000544   \n",
      "\n",
      "       No_of_times_visited  Time_Spent  BuyProbability  \n",
      "12762            -0.006618    0.044367       -0.219261  \n",
      "5459             -0.005468   -0.865109       -0.514640  \n",
      "27890            -0.007481    0.794942        1.036097  \n",
      "3018             -0.007769   -0.699033        4.802172  \n",
      "27523            -0.005899    0.468416       -0.039925  \n"
     ]
    }
   ],
   "source": [
    "#Split the dataset into training and testing part\n",
    "from sklearn.model_selection import train_test_split\n",
    "\n",
    "X_train, X_test, y_train, y_test = train_test_split(X, y, test_size=0.3, random_state=20)\n",
    "print(X_train.info())\n",
    "print(X_train.head())"
   ]
  },
  {
   "cell_type": "code",
   "execution_count": 12,
   "metadata": {},
   "outputs": [
    {
     "data": {
      "text/html": [
       "<div>\n",
       "<style scoped>\n",
       "    .dataframe tbody tr th:only-of-type {\n",
       "        vertical-align: middle;\n",
       "    }\n",
       "\n",
       "    .dataframe tbody tr th {\n",
       "        vertical-align: top;\n",
       "    }\n",
       "\n",
       "    .dataframe thead th {\n",
       "        text-align: right;\n",
       "    }\n",
       "</style>\n",
       "<table border=\"1\" class=\"dataframe\">\n",
       "  <thead>\n",
       "    <tr style=\"text-align: right;\">\n",
       "      <th></th>\n",
       "      <th>UserID</th>\n",
       "      <th>Total_Cart_value</th>\n",
       "      <th>Total_Product_purchased</th>\n",
       "      <th>No_of_times_visited</th>\n",
       "      <th>Time_Spent</th>\n",
       "      <th>BuyProbability</th>\n",
       "    </tr>\n",
       "  </thead>\n",
       "  <tbody>\n",
       "    <tr>\n",
       "      <th>12762</th>\n",
       "      <td>2843786458931322138</td>\n",
       "      <td>-0.014144</td>\n",
       "      <td>-0.009483</td>\n",
       "      <td>-0.006618</td>\n",
       "      <td>0.044367</td>\n",
       "      <td>-0.219261</td>\n",
       "    </tr>\n",
       "    <tr>\n",
       "      <th>5459</th>\n",
       "      <td>1210197778340283384</td>\n",
       "      <td>-0.003732</td>\n",
       "      <td>-0.009483</td>\n",
       "      <td>-0.005468</td>\n",
       "      <td>-0.865109</td>\n",
       "      <td>-0.514640</td>\n",
       "    </tr>\n",
       "    <tr>\n",
       "      <th>27890</th>\n",
       "      <td>6255857515698668945</td>\n",
       "      <td>0.002681</td>\n",
       "      <td>-0.009483</td>\n",
       "      <td>-0.007481</td>\n",
       "      <td>0.794942</td>\n",
       "      <td>1.036097</td>\n",
       "    </tr>\n",
       "    <tr>\n",
       "      <th>3018</th>\n",
       "      <td>673879138685972674</td>\n",
       "      <td>-0.015808</td>\n",
       "      <td>-0.009483</td>\n",
       "      <td>-0.007769</td>\n",
       "      <td>-0.699033</td>\n",
       "      <td>4.802172</td>\n",
       "    </tr>\n",
       "    <tr>\n",
       "      <th>27523</th>\n",
       "      <td>6164067352813114871</td>\n",
       "      <td>-0.012904</td>\n",
       "      <td>0.000544</td>\n",
       "      <td>-0.005899</td>\n",
       "      <td>0.468416</td>\n",
       "      <td>-0.039925</td>\n",
       "    </tr>\n",
       "  </tbody>\n",
       "</table>\n",
       "</div>"
      ],
      "text/plain": [
       "                    UserID  Total_Cart_value  Total_Product_purchased  \\\n",
       "12762  2843786458931322138         -0.014144                -0.009483   \n",
       "5459   1210197778340283384         -0.003732                -0.009483   \n",
       "27890  6255857515698668945          0.002681                -0.009483   \n",
       "3018    673879138685972674         -0.015808                -0.009483   \n",
       "27523  6164067352813114871         -0.012904                 0.000544   \n",
       "\n",
       "       No_of_times_visited  Time_Spent  BuyProbability  \n",
       "12762            -0.006618    0.044367       -0.219261  \n",
       "5459             -0.005468   -0.865109       -0.514640  \n",
       "27890            -0.007481    0.794942        1.036097  \n",
       "3018             -0.007769   -0.699033        4.802172  \n",
       "27523            -0.005899    0.468416       -0.039925  "
      ]
     },
     "execution_count": 12,
     "metadata": {},
     "output_type": "execute_result"
    }
   ],
   "source": [
    "X_train.head()"
   ]
  },
  {
   "cell_type": "code",
   "execution_count": 58,
   "metadata": {},
   "outputs": [
    {
     "data": {
      "text/plain": [
       "DecisionTreeRegressor()"
      ]
     },
     "execution_count": 58,
     "metadata": {},
     "output_type": "execute_result"
    }
   ],
   "source": [
    "#Model fitting on trainig data\n",
    "from sklearn.tree import DecisionTreeRegressor\n",
    "\n",
    "dt_model = DecisionTreeRegressor()   #creating decision tree object 1 with default parameters gini index\n",
    "\n",
    "#Train the model using the training sets\n",
    "dt_model.fit(X_train, y_train)"
   ]
  },
  {
   "cell_type": "code",
   "execution_count": 59,
   "metadata": {},
   "outputs": [],
   "source": [
    "y_pred=dt_model.predict(X_test)"
   ]
  },
  {
   "cell_type": "code",
   "execution_count": 60,
   "metadata": {},
   "outputs": [
    {
     "data": {
      "text/html": [
       "<div>\n",
       "<style scoped>\n",
       "    .dataframe tbody tr th:only-of-type {\n",
       "        vertical-align: middle;\n",
       "    }\n",
       "\n",
       "    .dataframe tbody tr th {\n",
       "        vertical-align: top;\n",
       "    }\n",
       "\n",
       "    .dataframe thead th {\n",
       "        text-align: right;\n",
       "    }\n",
       "</style>\n",
       "<table border=\"1\" class=\"dataframe\">\n",
       "  <thead>\n",
       "    <tr style=\"text-align: right;\">\n",
       "      <th></th>\n",
       "      <th>Real Values</th>\n",
       "      <th>Predicted Values</th>\n",
       "    </tr>\n",
       "  </thead>\n",
       "  <tbody>\n",
       "    <tr>\n",
       "      <th>8375</th>\n",
       "      <td>-0.087312</td>\n",
       "      <td>-0.084936</td>\n",
       "    </tr>\n",
       "    <tr>\n",
       "      <th>30439</th>\n",
       "      <td>-0.129267</td>\n",
       "      <td>-0.129200</td>\n",
       "    </tr>\n",
       "    <tr>\n",
       "      <th>31208</th>\n",
       "      <td>-0.131540</td>\n",
       "      <td>-0.131540</td>\n",
       "    </tr>\n",
       "    <tr>\n",
       "      <th>14113</th>\n",
       "      <td>-0.005044</td>\n",
       "      <td>-0.006420</td>\n",
       "    </tr>\n",
       "    <tr>\n",
       "      <th>36261</th>\n",
       "      <td>-0.136770</td>\n",
       "      <td>-0.136763</td>\n",
       "    </tr>\n",
       "    <tr>\n",
       "      <th>...</th>\n",
       "      <td>...</td>\n",
       "      <td>...</td>\n",
       "    </tr>\n",
       "    <tr>\n",
       "      <th>4657</th>\n",
       "      <td>-0.135512</td>\n",
       "      <td>-0.135626</td>\n",
       "    </tr>\n",
       "    <tr>\n",
       "      <th>39579</th>\n",
       "      <td>-0.118716</td>\n",
       "      <td>-0.118419</td>\n",
       "    </tr>\n",
       "    <tr>\n",
       "      <th>40293</th>\n",
       "      <td>-0.086396</td>\n",
       "      <td>-0.086396</td>\n",
       "    </tr>\n",
       "    <tr>\n",
       "      <th>16880</th>\n",
       "      <td>-0.140417</td>\n",
       "      <td>-0.140537</td>\n",
       "    </tr>\n",
       "    <tr>\n",
       "      <th>28103</th>\n",
       "      <td>-0.131239</td>\n",
       "      <td>-0.130856</td>\n",
       "    </tr>\n",
       "  </tbody>\n",
       "</table>\n",
       "<p>12303 rows × 2 columns</p>\n",
       "</div>"
      ],
      "text/plain": [
       "       Real Values  Predicted Values\n",
       "8375     -0.087312         -0.084936\n",
       "30439    -0.129267         -0.129200\n",
       "31208    -0.131540         -0.131540\n",
       "14113    -0.005044         -0.006420\n",
       "36261    -0.136770         -0.136763\n",
       "...            ...               ...\n",
       "4657     -0.135512         -0.135626\n",
       "39579    -0.118716         -0.118419\n",
       "40293    -0.086396         -0.086396\n",
       "16880    -0.140417         -0.140537\n",
       "28103    -0.131239         -0.130856\n",
       "\n",
       "[12303 rows x 2 columns]"
      ]
     },
     "execution_count": 60,
     "metadata": {},
     "output_type": "execute_result"
    }
   ],
   "source": [
    "df = pd.DataFrame({'Real Values':y_test, 'Predicted Values':y_pred})\n",
    "df"
   ]
  },
  {
   "cell_type": "code",
   "execution_count": 61,
   "metadata": {},
   "outputs": [
    {
     "name": "stdout",
     "output_type": "stream",
     "text": [
      "\n",
      " Mean squared error =: 0.005923889449659827\n",
      "\n",
      "Root Mean squared error =: 0.07696680745399166\n",
      "\n",
      " Mean absolute error =: 0.005806735010118885\n",
      "\n",
      " R2 Score =: 0.9361863048249631\n"
     ]
    }
   ],
   "source": [
    "from sklearn.metrics import mean_squared_error\n",
    "from sklearn.metrics import mean_absolute_error\n",
    "from sklearn.metrics import r2_score\n",
    "print(\"\\n Mean squared error =:\", mean_squared_error(y_pred,y_test))\n",
    "print(\"\\nRoot Mean squared error =:\",np.sqrt(mean_squared_error(y_pred,y_test)))\n",
    "print(\"\\n Mean absolute error =:\", mean_absolute_error(y_pred,y_test))\n",
    "print(\"\\n R2 Score =:\", r2_score(y_pred,y_test))\n"
   ]
  },
  {
   "cell_type": "code",
   "execution_count": 62,
   "metadata": {},
   "outputs": [
    {
     "ename": "SyntaxError",
     "evalue": "invalid syntax (<ipython-input-62-72b97785eef4>, line 1)",
     "output_type": "error",
     "traceback": [
      "\u001b[1;36m  File \u001b[1;32m\"<ipython-input-62-72b97785eef4>\"\u001b[1;36m, line \u001b[1;32m1\u001b[0m\n\u001b[1;33m    Mean squared error =: 1.1379469668045397e-06\u001b[0m\n\u001b[1;37m         ^\u001b[0m\n\u001b[1;31mSyntaxError\u001b[0m\u001b[1;31m:\u001b[0m invalid syntax\n"
     ]
    }
   ],
   "source": [
    "Mean squared error =: 1.1379469668045397e-06\n",
    "\n",
    "Root Mean squared error =: 0.0010667459710749039\n",
    "\n",
    " Mean absolute error =: 0.0005140604131025077\n",
    "\n",
    " R2 Score =: 0.6601251417957328\n",
    "\n"
   ]
  },
  {
   "cell_type": "markdown",
   "metadata": {},
   "source": [
    "# KNN Model"
   ]
  },
  {
   "cell_type": "code",
   "execution_count": 14,
   "metadata": {},
   "outputs": [
    {
     "data": {
      "text/html": [
       "<div>\n",
       "<style scoped>\n",
       "    .dataframe tbody tr th:only-of-type {\n",
       "        vertical-align: middle;\n",
       "    }\n",
       "\n",
       "    .dataframe tbody tr th {\n",
       "        vertical-align: top;\n",
       "    }\n",
       "\n",
       "    .dataframe thead th {\n",
       "        text-align: right;\n",
       "    }\n",
       "</style>\n",
       "<table border=\"1\" class=\"dataframe\">\n",
       "  <thead>\n",
       "    <tr style=\"text-align: right;\">\n",
       "      <th></th>\n",
       "      <th>UserID</th>\n",
       "      <th>Total_Cart_value</th>\n",
       "      <th>Total_Product_purchased</th>\n",
       "      <th>No_of_times_visited</th>\n",
       "      <th>Time_Spent</th>\n",
       "      <th>BuyProbability</th>\n",
       "    </tr>\n",
       "  </thead>\n",
       "  <tbody>\n",
       "    <tr>\n",
       "      <th>12762</th>\n",
       "      <td>2843786458931322138</td>\n",
       "      <td>-0.014144</td>\n",
       "      <td>-0.009483</td>\n",
       "      <td>-0.006618</td>\n",
       "      <td>0.044367</td>\n",
       "      <td>-0.219261</td>\n",
       "    </tr>\n",
       "    <tr>\n",
       "      <th>5459</th>\n",
       "      <td>1210197778340283384</td>\n",
       "      <td>-0.003732</td>\n",
       "      <td>-0.009483</td>\n",
       "      <td>-0.005468</td>\n",
       "      <td>-0.865109</td>\n",
       "      <td>-0.514640</td>\n",
       "    </tr>\n",
       "    <tr>\n",
       "      <th>27890</th>\n",
       "      <td>6255857515698668945</td>\n",
       "      <td>0.002681</td>\n",
       "      <td>-0.009483</td>\n",
       "      <td>-0.007481</td>\n",
       "      <td>0.794942</td>\n",
       "      <td>1.036097</td>\n",
       "    </tr>\n",
       "    <tr>\n",
       "      <th>3018</th>\n",
       "      <td>673879138685972674</td>\n",
       "      <td>-0.015808</td>\n",
       "      <td>-0.009483</td>\n",
       "      <td>-0.007769</td>\n",
       "      <td>-0.699033</td>\n",
       "      <td>4.802172</td>\n",
       "    </tr>\n",
       "    <tr>\n",
       "      <th>27523</th>\n",
       "      <td>6164067352813114871</td>\n",
       "      <td>-0.012904</td>\n",
       "      <td>0.000544</td>\n",
       "      <td>-0.005899</td>\n",
       "      <td>0.468416</td>\n",
       "      <td>-0.039925</td>\n",
       "    </tr>\n",
       "  </tbody>\n",
       "</table>\n",
       "</div>"
      ],
      "text/plain": [
       "                    UserID  Total_Cart_value  Total_Product_purchased  \\\n",
       "12762  2843786458931322138         -0.014144                -0.009483   \n",
       "5459   1210197778340283384         -0.003732                -0.009483   \n",
       "27890  6255857515698668945          0.002681                -0.009483   \n",
       "3018    673879138685972674         -0.015808                -0.009483   \n",
       "27523  6164067352813114871         -0.012904                 0.000544   \n",
       "\n",
       "       No_of_times_visited  Time_Spent  BuyProbability  \n",
       "12762            -0.006618    0.044367       -0.219261  \n",
       "5459             -0.005468   -0.865109       -0.514640  \n",
       "27890            -0.007481    0.794942        1.036097  \n",
       "3018             -0.007769   -0.699033        4.802172  \n",
       "27523            -0.005899    0.468416       -0.039925  "
      ]
     },
     "execution_count": 14,
     "metadata": {},
     "output_type": "execute_result"
    }
   ],
   "source": [
    "X_train.head()"
   ]
  },
  {
   "cell_type": "code",
   "execution_count": 17,
   "metadata": {},
   "outputs": [
    {
     "data": {
      "text/plain": [
       "KNeighborsRegressor()"
      ]
     },
     "execution_count": 17,
     "metadata": {},
     "output_type": "execute_result"
    }
   ],
   "source": [
    "# Fit the knn classifier\n",
    "from sklearn.neighbors import KNeighborsRegressor\n",
    "Kmodel =KNeighborsRegressor()\n",
    "Kmodel.fit(X_train, y_train)"
   ]
  },
  {
   "cell_type": "code",
   "execution_count": 18,
   "metadata": {},
   "outputs": [],
   "source": [
    "# Use the classifier to make prediction on test data\n",
    "y_pred = Kmodel.predict(X_test)"
   ]
  },
  {
   "cell_type": "code",
   "execution_count": 19,
   "metadata": {},
   "outputs": [
    {
     "data": {
      "text/html": [
       "<div>\n",
       "<style scoped>\n",
       "    .dataframe tbody tr th:only-of-type {\n",
       "        vertical-align: middle;\n",
       "    }\n",
       "\n",
       "    .dataframe tbody tr th {\n",
       "        vertical-align: top;\n",
       "    }\n",
       "\n",
       "    .dataframe thead th {\n",
       "        text-align: right;\n",
       "    }\n",
       "</style>\n",
       "<table border=\"1\" class=\"dataframe\">\n",
       "  <thead>\n",
       "    <tr style=\"text-align: right;\">\n",
       "      <th></th>\n",
       "      <th>Real Values</th>\n",
       "      <th>Predicted Values</th>\n",
       "    </tr>\n",
       "  </thead>\n",
       "  <tbody>\n",
       "    <tr>\n",
       "      <th>8375</th>\n",
       "      <td>-0.087312</td>\n",
       "      <td>-0.068560</td>\n",
       "    </tr>\n",
       "    <tr>\n",
       "      <th>30439</th>\n",
       "      <td>-0.129267</td>\n",
       "      <td>-0.002611</td>\n",
       "    </tr>\n",
       "    <tr>\n",
       "      <th>31208</th>\n",
       "      <td>-0.131540</td>\n",
       "      <td>-0.087906</td>\n",
       "    </tr>\n",
       "    <tr>\n",
       "      <th>14113</th>\n",
       "      <td>-0.005044</td>\n",
       "      <td>-0.079294</td>\n",
       "    </tr>\n",
       "    <tr>\n",
       "      <th>36261</th>\n",
       "      <td>-0.136770</td>\n",
       "      <td>0.281261</td>\n",
       "    </tr>\n",
       "    <tr>\n",
       "      <th>...</th>\n",
       "      <td>...</td>\n",
       "      <td>...</td>\n",
       "    </tr>\n",
       "    <tr>\n",
       "      <th>4657</th>\n",
       "      <td>-0.135512</td>\n",
       "      <td>-0.110701</td>\n",
       "    </tr>\n",
       "    <tr>\n",
       "      <th>39579</th>\n",
       "      <td>-0.118716</td>\n",
       "      <td>0.007628</td>\n",
       "    </tr>\n",
       "    <tr>\n",
       "      <th>40293</th>\n",
       "      <td>-0.086396</td>\n",
       "      <td>-0.033729</td>\n",
       "    </tr>\n",
       "    <tr>\n",
       "      <th>16880</th>\n",
       "      <td>-0.140417</td>\n",
       "      <td>-0.034356</td>\n",
       "    </tr>\n",
       "    <tr>\n",
       "      <th>28103</th>\n",
       "      <td>-0.131239</td>\n",
       "      <td>0.224092</td>\n",
       "    </tr>\n",
       "  </tbody>\n",
       "</table>\n",
       "<p>12303 rows × 2 columns</p>\n",
       "</div>"
      ],
      "text/plain": [
       "       Real Values  Predicted Values\n",
       "8375     -0.087312         -0.068560\n",
       "30439    -0.129267         -0.002611\n",
       "31208    -0.131540         -0.087906\n",
       "14113    -0.005044         -0.079294\n",
       "36261    -0.136770          0.281261\n",
       "...            ...               ...\n",
       "4657     -0.135512         -0.110701\n",
       "39579    -0.118716          0.007628\n",
       "40293    -0.086396         -0.033729\n",
       "16880    -0.140417         -0.034356\n",
       "28103    -0.131239          0.224092\n",
       "\n",
       "[12303 rows x 2 columns]"
      ]
     },
     "execution_count": 19,
     "metadata": {},
     "output_type": "execute_result"
    }
   ],
   "source": [
    "df = pd.DataFrame({'Real Values':y_test, 'Predicted Values':y_pred})\n",
    "df"
   ]
  },
  {
   "cell_type": "code",
   "execution_count": 20,
   "metadata": {},
   "outputs": [
    {
     "name": "stdout",
     "output_type": "stream",
     "text": [
      "\n",
      " Mean squared error =: 0.5845489723178853\n",
      "\n",
      "Root Mean squared error =: 0.7645580241668288\n",
      "\n",
      " Mean absolute error =: 0.16579412814593847\n",
      "\n",
      " R2 Score =: -0.20374402216944265\n"
     ]
    }
   ],
   "source": [
    "from sklearn.metrics import mean_squared_error\n",
    "from sklearn.metrics import mean_absolute_error\n",
    "from sklearn.metrics import r2_score\n",
    "print(\"\\n Mean squared error =:\", mean_squared_error(y_pred,y_test))\n",
    "print(\"\\nRoot Mean squared error =:\",np.sqrt(mean_squared_error(y_pred,y_test)))\n",
    "print(\"\\n Mean absolute error =:\", mean_absolute_error(y_pred,y_test))\n",
    "print(\"\\n R2 Score =:\", r2_score(y_pred,y_test))"
   ]
  },
  {
   "cell_type": "code",
   "execution_count": 28,
   "metadata": {},
   "outputs": [
    {
     "name": "stdout",
     "output_type": "stream",
     "text": [
      "RMSE value for k=  1 is: 0.7645580241668288\n",
      "RMSE value for k=  2 is: 0.7645580241668288\n",
      "RMSE value for k=  3 is: 0.7645580241668288\n",
      "RMSE value for k=  4 is: 0.7645580241668288\n",
      "RMSE value for k=  5 is: 0.7645580241668288\n",
      "RMSE value for k=  6 is: 0.7645580241668288\n",
      "RMSE value for k=  7 is: 0.7645580241668288\n",
      "RMSE value for k=  8 is: 0.7645580241668288\n",
      "RMSE value for k=  9 is: 0.7645580241668288\n",
      "RMSE value for k=  10 is: 0.7645580241668288\n",
      "RMSE value for k=  11 is: 0.7645580241668288\n",
      "RMSE value for k=  12 is: 0.7645580241668288\n",
      "RMSE value for k=  13 is: 0.7645580241668288\n",
      "RMSE value for k=  14 is: 0.7645580241668288\n",
      "RMSE value for k=  15 is: 0.7645580241668288\n",
      "RMSE value for k=  16 is: 0.7645580241668288\n",
      "RMSE value for k=  17 is: 0.7645580241668288\n",
      "RMSE value for k=  18 is: 0.7645580241668288\n",
      "RMSE value for k=  19 is: 0.7645580241668288\n",
      "RMSE value for k=  20 is: 0.7645580241668288\n"
     ]
    }
   ],
   "source": [
    "from math import sqrt\n",
    "rmse_val = [] #to store rmse values for different k\n",
    "for K in range(20):\n",
    "    K = K+1\n",
    "   \n",
    "    error = sqrt(mean_squared_error(y_test,y_pred)) #calculate rmse\n",
    "    rmse_val.append(error) #store rmse values\n",
    "    print('RMSE value for k= ' , K , 'is:', error)"
   ]
  },
  {
   "cell_type": "code",
   "execution_count": 29,
   "metadata": {},
   "outputs": [
    {
     "data": {
      "text/plain": [
       "<AxesSubplot:>"
      ]
     },
     "execution_count": 29,
     "metadata": {},
     "output_type": "execute_result"
    },
    {
     "data": {
      "image/png": "[encoded data removed]",
      "text/plain": [
       "<Figure size 432x288 with 1 Axes>"
      ]
     },
     "metadata": {
      "needs_background": "light"
     },
     "output_type": "display_data"
    }
   ],
   "source": [
    "#plotting the rmse values against k values\n",
    "curve = pd.DataFrame(rmse_val) #elbow curve \n",
    "curve.plot()"
   ]
  },
  {
   "cell_type": "code",
   "execution_count": 31,
   "metadata": {},
   "outputs": [
    {
     "data": {
      "text/plain": [
       "{'n_neighbors': 9}"
      ]
     },
     "execution_count": 31,
     "metadata": {},
     "output_type": "execute_result"
    }
   ],
   "source": [
    "from sklearn.model_selection import GridSearchCV\n",
    "params = {'n_neighbors':[2,3,4,5,6,7,8,9]}\n",
    "\n",
    "knn = KNeighborsRegressor()\n",
    "\n",
    "model = GridSearchCV(knn, params, cv=5)\n",
    "model.fit(X_train,y_train)\n",
    "model.best_params_"
   ]
  },
  {
   "cell_type": "markdown",
   "metadata": {},
   "source": [
    "# SVR"
   ]
  },
  {
   "cell_type": "code",
   "execution_count": 33,
   "metadata": {},
   "outputs": [
    {
     "name": "stdout",
     "output_type": "stream",
     "text": [
      "[-0.00323125 -0.00417704 -0.00410692 -0.00094222 -0.00602082 -0.00440461\n",
      " -0.00260483 -0.00090749 -0.00124815 -0.00244031]\n"
     ]
    }
   ],
   "source": [
    "#Support vector Classifier\n",
    "# capital C is hyperparameter diff frm small c\n",
    "from sklearn.model_selection import cross_val_score\n",
    "from sklearn.svm import SVR\n",
    "Support_Vector_Regressor=SVR(C=2.0,kernel='rbf')\n",
    "Support_Vector_Regressor.fit(X_train, y_train)\n",
    "score=cross_val_score(Support_Vector_Regressor, X_train, y_train, cv=10)\n",
    "print(score)\n",
    "#Predict the response for test dataset\n",
    "y_pred = Support_Vector_Regressor.predict(X_test)"
   ]
  },
  {
   "cell_type": "code",
   "execution_count": 35,
   "metadata": {},
   "outputs": [
    {
     "name": "stdout",
     "output_type": "stream",
     "text": [
      "\n",
      " Mean squared error =: 0.1015483357610209\n",
      "\n",
      "Root Mean squared error =: 0.31866649613823683\n",
      "\n",
      " Mean absolute error =: 0.12031913110900466\n",
      "\n",
      " R2 Score =: -261448.86983446006\n"
     ]
    }
   ],
   "source": [
    "from sklearn.metrics import mean_squared_error\n",
    "from sklearn.metrics import mean_absolute_error\n",
    "from sklearn.metrics import r2_score\n",
    "print(\"\\n Mean squared error =:\", mean_squared_error(y_pred,y_test))\n",
    "print(\"\\nRoot Mean squared error =:\",np.sqrt(mean_squared_error(y_pred,y_test)))\n",
    "print(\"\\n Mean absolute error =:\", mean_absolute_error(y_pred,y_test))\n",
    "print(\"\\n R2 Score =:\", r2_score(y_pred,y_test))"
   ]
  },
  {
   "cell_type": "code",
   "execution_count": 39,
   "metadata": {},
   "outputs": [
    {
     "data": {
      "text/html": [
       "<div>\n",
       "<style scoped>\n",
       "    .dataframe tbody tr th:only-of-type {\n",
       "        vertical-align: middle;\n",
       "    }\n",
       "\n",
       "    .dataframe tbody tr th {\n",
       "        vertical-align: top;\n",
       "    }\n",
       "\n",
       "    .dataframe thead th {\n",
       "        text-align: right;\n",
       "    }\n",
       "</style>\n",
       "<table border=\"1\" class=\"dataframe\">\n",
       "  <thead>\n",
       "    <tr style=\"text-align: right;\">\n",
       "      <th></th>\n",
       "      <th>MSE</th>\n",
       "      <th>RMSE</th>\n",
       "      <th>MAE</th>\n",
       "      <th>R2</th>\n",
       "    </tr>\n",
       "  </thead>\n",
       "  <tbody>\n",
       "    <tr>\n",
       "      <th>Decision tree</th>\n",
       "      <td>0.005924</td>\n",
       "      <td>0.076967</td>\n",
       "      <td>0.005807</td>\n",
       "      <td>0.936186</td>\n",
       "    </tr>\n",
       "    <tr>\n",
       "      <th>LinerRegression</th>\n",
       "      <td>0.000001</td>\n",
       "      <td>0.001067</td>\n",
       "      <td>0.000514</td>\n",
       "      <td>0.660125</td>\n",
       "    </tr>\n",
       "    <tr>\n",
       "      <th>KNN</th>\n",
       "      <td>0.584549</td>\n",
       "      <td>0.764558</td>\n",
       "      <td>0.165794</td>\n",
       "      <td>-0.203744</td>\n",
       "    </tr>\n",
       "    <tr>\n",
       "      <th>SVM</th>\n",
       "      <td>0.101548</td>\n",
       "      <td>0.318666</td>\n",
       "      <td>0.120319</td>\n",
       "      <td>-261448.869834</td>\n",
       "    </tr>\n",
       "  </tbody>\n",
       "</table>\n",
       "</div>"
      ],
      "text/plain": [
       "                      MSE      RMSE       MAE             R2\n",
       "Decision tree    0.005924  0.076967  0.005807       0.936186\n",
       "LinerRegression  0.000001  0.001067  0.000514       0.660125\n",
       "KNN              0.584549  0.764558  0.165794      -0.203744\n",
       "SVM              0.101548  0.318666  0.120319 -261448.869834"
      ]
     },
     "execution_count": 39,
     "metadata": {},
     "output_type": "execute_result"
    }
   ],
   "source": [
    "d={'MSE':[0.005923889449659827,1.1379469668045397e-06,0.5845489723178853,0.1015483357610209],\n",
    "   'RMSE':[0.07696680745399166, 0.0010667459710749039,0.7645580241668288,0.31866649613823683],\n",
    "   'MAE':[0.005806735010118885,0.0005140604131025077,0.16579412814593847,0.12031913110900466],\n",
    "   'R2':[0.9361863048249631,0.6601251417957328,-0.20374402216944265,-261448.86983446006]}\n",
    "   \n",
    "result =pd.DataFrame(d,index=['Decision tree','LinerRegression','KNN','SVM'])\n",
    "result"
   ]
  },
  {
   "cell_type": "markdown",
   "metadata": {},
   "source": [
    "-The value of MSE,RMSE and MAE is minimum in Linear Regression\n",
    "so the Final Model is:\n",
    "-   Target=-0.000811+Total_Cart_value11.290344+Total_Product_purchased*0.269231+ No_of_times_visited-10.558645+Time_Spent-0.000114+BuyProbability0.041629\n",
    "\n"
   ]
  },
  {
   "cell_type": "code",
   "execution_count": null,
   "metadata": {},
   "outputs": [],
   "source": []
  }
 ],
 "metadata": {
  "kernelspec": {
   "display_name": "Python 3",
   "language": "python",
   "name": "python3"
  },
  "language_info": {
   "codemirror_mode": {
    "name": "ipython",
    "version": 3
   },
   "file_extension": ".py",
   "mimetype": "text/x-python",
   "name": "python",
   "nbconvert_exporter": "python",
   "pygments_lexer": "ipython3",
   "version": "3.8.5"
  }
 },
 "nbformat": 4,
 "nbformat_minor": 5
}
